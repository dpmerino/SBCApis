{
 "cells": [
  {
   "cell_type": "code",
   "execution_count": 2,
   "metadata": {},
   "outputs": [],
   "source": [
    "from rdflib import Graph\n",
    "from rdflib import URIRef, BNode, Literal, RDF, RDFS\n",
    "import json\n",
    "import re"
   ]
  },
  {
   "cell_type": "code",
   "execution_count": 26,
   "metadata": {},
   "outputs": [],
   "source": [
    "from rdflib import Namespace\n",
    "# prefix for my data\n",
    "strprefix = \"http://example.org/destination/\"\n",
    "data = Namespace(strprefix) \n",
    "schema = Namespace('https://schema.org/')\n",
    "weat = Namespace('https://bimerr.iot.linkeddata.es/def/weather/')"
   ]
  },
  {
   "cell_type": "code",
   "execution_count": 4,
   "metadata": {},
   "outputs": [
    {
     "name": "stdout",
     "output_type": "stream",
     "text": [
      "{'term': 'loja,ecuador', 'suggestions': [{'group': 'CITY_GROUP', 'entities': [{'geoId': '739209075957641216', 'destinationId': '739209075957641216', 'landmarkCityDestinationId': None, 'type': 'CITY', 'redirectPage': 'DEFAULT_PAGE', 'latitude': -3.6394344211967353, 'longitude': -79.16831395316717, 'searchDetail': None, 'caption': 'Urdaneta, Loja Province, Ecuador', 'name': 'Urdaneta'}, {'geoId': '553248635973463947', 'destinationId': '11403341', 'landmarkCityDestinationId': None, 'type': 'CITY', 'redirectPage': 'DEFAULT_PAGE', 'latitude': -4.362287242855844, 'longitude': -80.25714249772747, 'searchDetail': None, 'caption': 'Zapotillo, Zapotillo, Loja Province, Ecuador', 'name': 'Zapotillo'}, {'geoId': '739208770310778880', 'destinationId': '739208770310778880', 'landmarkCityDestinationId': None, 'type': 'CITY', 'redirectPage': 'DEFAULT_PAGE', 'latitude': -3.7536272587413535, 'longitude': -79.37310779298699, 'searchDetail': None, 'caption': 'Gualel, Loja Province, Ecuador', 'name': 'Gualel'}, {'geoId': '6141628', 'destinationId': '430835', 'landmarkCityDestinationId': None, 'type': 'CITY', 'redirectPage': 'DEFAULT_PAGE', 'latitude': -4.279782518845229, 'longitude': -79.22828827501147, 'searchDetail': None, 'caption': 'Vilcabamba, Loja Province, Ecuador', 'name': 'Vilcabamba'}, {'geoId': '553248635973466085', 'destinationId': '11399014', 'landmarkCityDestinationId': None, 'type': 'CITY', 'redirectPage': 'DEFAULT_PAGE', 'latitude': -4.6543353997929895, 'longitude': -79.4439252024845, 'searchDetail': None, 'caption': 'Jimbura, Loja Province, Ecuador', 'name': 'Jimbura'}, {'geoId': '739209559055679488', 'destinationId': '739209559055679488', 'landmarkCityDestinationId': None, 'type': 'CITY', 'redirectPage': 'DEFAULT_PAGE', 'latitude': -3.492462417354487, 'longitude': -79.32495698683137, 'searchDetail': None, 'caption': 'Lluzhapa, Loja Province, Ecuador', 'name': 'Lluzhapa'}, {'geoId': '739208910594658304', 'destinationId': '739208910594658304', 'landmarkCityDestinationId': None, 'type': 'CITY', 'redirectPage': 'DEFAULT_PAGE', 'latitude': -3.5291942265345875, 'longitude': -79.42642033242456, 'searchDetail': None, 'caption': 'Manu, Loja Province, Ecuador', 'name': 'Manu'}]}, {'group': 'HOTEL_GROUP', 'entities': []}, {'group': 'LANDMARK_GROUP', 'entities': [{'geoId': '6266178', 'destinationId': '1769968', 'landmarkCityDestinationId': '1746599', 'type': 'LANDMARK', 'redirectPage': 'DEFAULT_PAGE', 'latitude': -3.99648, 'longitude': -79.20131, 'searchDetail': None, 'caption': 'Loja Cathedral, Loja, Loja Province, Ecuador', 'name': 'Loja Cathedral'}, {'geoId': '553248621532375146', 'destinationId': '10518677', 'landmarkCityDestinationId': '1746599', 'type': 'LANDMARK', 'redirectPage': 'DEFAULT_PAGE', 'latitude': -3.9981, 'longitude': -79.201163, 'searchDetail': None, 'caption': 'Loja Music Museum, Loja, Loja Province, Ecuador', 'name': 'Loja Music Museum'}, {'geoId': '553248621563843915', 'destinationId': '10450174', 'landmarkCityDestinationId': '427461', 'type': 'LANDMARK', 'redirectPage': 'DEFAULT_PAGE', 'latitude': -3.632289, 'longitude': -79.221056, 'searchDetail': None, 'caption': 'Waterfall of Sininkapak, Saraguro, Loja Province, Ecuador', 'name': 'Waterfall of Sininkapak'}, {'geoId': '553248621532375140', 'destinationId': '10518672', 'landmarkCityDestinationId': '1746599', 'type': 'LANDMARK', 'redirectPage': 'DEFAULT_PAGE', 'latitude': -3.9994, 'longitude': -79.203, 'searchDetail': None, 'caption': 'Parque Universitario La Argelia, Loja, Loja Province, Ecuador', 'name': 'Parque Universitario La Argelia'}, {'geoId': '6287406', 'destinationId': '1780809', 'landmarkCityDestinationId': '430835', 'type': 'LANDMARK', 'redirectPage': 'DEFAULT_PAGE', 'latitude': -4.262117, 'longitude': -79.222736, 'searchDetail': None, 'caption': 'Vilcabamba Church, Vilcabamba, Loja Province, Ecuador', 'name': 'Vilcabamba Church'}, {'geoId': '6266170', 'destinationId': '1769967', 'landmarkCityDestinationId': '1746599', 'type': 'LANDMARK', 'redirectPage': 'DEFAULT_PAGE', 'latitude': -3.989522, 'longitude': -79.204251, 'searchDetail': None, 'caption': 'Loja City Gates, Loja, Loja Province, Ecuador', 'name': 'Loja City Gates'}, {'geoId': '553248621563843914', 'destinationId': '10450127', 'landmarkCityDestinationId': '427461', 'type': 'LANDMARK', 'redirectPage': 'DEFAULT_PAGE', 'latitude': -3.62201, 'longitude': -79.239702, 'searchDetail': None, 'caption': 'Saraguro Market, Saraguro, Loja Province, Ecuador', 'name': 'Saraguro Market'}]}, {'group': 'TRANSPORT_GROUP', 'entities': [{'geoId': '6029735', 'destinationId': '1666240', 'landmarkCityDestinationId': None, 'type': 'AIRPORT', 'redirectPage': 'DEFAULT_PAGE', 'latitude': -3.995892, 'longitude': -79.371925, 'searchDetail': None, 'caption': 'Loja, Ecuador (LOH-Camilo Ponce Enriquez)', 'name': 'Loja (LOH-Camilo Ponce Enriquez)'}]}], 'geocodeFallback': False}\n"
     ]
    }
   ],
   "source": [
    "\n",
    "ruta = 'Data/loja.json'\n",
    "obj = json.load(open(ruta))\n",
    "del obj['moresuggestions']\n",
    "del obj['autoSuggestInstance']\n",
    "del obj['trackingID']\n",
    "del obj['misspellingfallback']\n",
    "print(obj)"
   ]
  },
  {
   "cell_type": "code",
   "execution_count": 5,
   "metadata": {},
   "outputs": [],
   "source": [
    "g = Graph()"
   ]
  },
  {
   "cell_type": "code",
   "execution_count": 6,
   "metadata": {},
   "outputs": [
    {
     "name": "stdout",
     "output_type": "stream",
     "text": [
      "[' Ecuador', ' Ecuador', ' Ecuador', ' Ecuador', ' Ecuador', ' Ecuador', ' Ecuador']\n",
      "[' Loja Province', ' Loja Province', ' Loja Province', ' Loja Province', ' Loja Province', ' Loja Province', ' Loja Province']\n",
      "[' Loja', ' Loja', ' Saraguro', ' Loja', ' Vilcabamba', ' Loja', ' Saraguro']\n"
     ]
    }
   ],
   "source": [
    "busqueda = obj['term']\n",
    "# Grupo de ciudades\n",
    "cityLats = []\n",
    "cityLons = []\n",
    "cityNames = []\n",
    "cityTypes = []\n",
    "cityStates = []\n",
    "cityCountries = []\n",
    "# Grupo de lugares de interés\n",
    "landmarkLats = []\n",
    "landmarkLons = []\n",
    "landmarkNames = []\n",
    "landmarkTypes = []\n",
    "landmarkCitys = []\n",
    "landmarkStates = []\n",
    "landmarkCountrys = []\n",
    "# Grupo de hoteles\n",
    "hotelLats = []\n",
    "hotelLons = []\n",
    "hotelNames = []\n",
    "hotelTypes = []\n",
    "hotelCitys = []\n",
    "hotelStates = []\n",
    "hotelCountrys = []\n",
    "\n",
    "for suggestion in obj['suggestions']:\n",
    "    if suggestion['group'] == 'CITY_GROUP':\n",
    "        for entitie in suggestion['entities']:\n",
    "            cityLats.append(entitie['latitude'])    \n",
    "            cityLons.append(entitie['longitude'])\n",
    "            cityNames.append(entitie['name'])\n",
    "            cityTypes.append(entitie['type'])\n",
    "            location = re.split(',|,|,|,|,',entitie['caption'])\n",
    "            cityStates.append(location[-2])\n",
    "            cityCountries.append(location[-1])\n",
    "    if suggestion['group'] == 'LANDMARK_GROUP':\n",
    "        for entitie in suggestion['entities']:\n",
    "            landmarkLats.append(entitie['latitude'])\n",
    "            landmarkLons.append(entitie['longitude'])\n",
    "            landmarkNames.append(entitie['name'])\n",
    "            landmarkTypes.append(entitie['type'])\n",
    "            location = re.split(',|,|,|,|,',entitie['caption'])\n",
    "            landmarkCitys.append(location[-3])\n",
    "            landmarkStates.append(location[-2])\n",
    "            landmarkCountrys.append(location[-1])\n",
    "    if suggestion['group'] == 'HOTEL_GROUP':\n",
    "        for entitie in suggestion['entities']:\n",
    "            hotelLats.append(entitie['latitude'])\n",
    "            hotelLons.append(entitie['longitude'])\n",
    "            hotelNames.append(entitie['name'])\n",
    "            hotelTypes.append(entitie['type'])\n",
    "            location = re.split(',|,|,|,|,',entitie['caption'])\n",
    "            hotelCitys.append(location[-3])\n",
    "            hotelStates.append(location[-2])\n",
    "            hotelCountrys.append(location[-1])\n",
    "\n",
    "print(landmarkCountrys)\n",
    "print(landmarkStates)\n",
    "print(landmarkCitys)"
   ]
  },
  {
   "cell_type": "code",
   "execution_count": 19,
   "metadata": {},
   "outputs": [
    {
     "name": "stdout",
     "output_type": "stream",
     "text": [
      "Lugares\n",
      "[{'coord': {'lon': -79.2013, 'lat': -3.9965}, 'weather': [{'id': 803, 'main': 'Clouds', 'description': 'broken clouds', 'icon': '04d'}], 'base': 'stations', 'main': {'temp': 295.69, 'feels_like': 295.1, 'temp_min': 295.69, 'temp_max': 295.69, 'pressure': 1016, 'humidity': 42}, 'visibility': 10000, 'wind': {'speed': 3.6, 'deg': 210}, 'clouds': {'all': 75}, 'dt': 1654454182, 'sys': {'type': 1, 'id': 8540, 'country': 'EC', 'sunrise': 1654427911, 'sunset': 1654470745}, 'timezone': -18000, 'id': 3654667, 'name': 'Loja', 'cod': 200}, {'coord': {'lon': -79.2013, 'lat': -3.9965}, 'weather': [{'id': 803, 'main': 'Clouds', 'description': 'broken clouds', 'icon': '04d'}], 'base': 'stations', 'main': {'temp': 295.69, 'feels_like': 295.1, 'temp_min': 295.69, 'temp_max': 295.69, 'pressure': 1016, 'humidity': 42}, 'visibility': 10000, 'wind': {'speed': 3.6, 'deg': 210}, 'clouds': {'all': 75}, 'dt': 1654454182, 'sys': {'type': 1, 'id': 8540, 'country': 'EC', 'sunrise': 1654427911, 'sunset': 1654470745}, 'timezone': -18000, 'id': 3654667, 'name': 'Loja', 'cod': 200}, {'coord': {'lon': -79.2211, 'lat': -3.6323}, 'weather': [{'id': 500, 'main': 'Rain', 'description': 'light rain', 'icon': '10d'}], 'base': 'stations', 'main': {'temp': 292.69, 'feels_like': 292.19, 'temp_min': 292.69, 'temp_max': 292.69, 'pressure': 1013, 'humidity': 57, 'sea_level': 1013, 'grnd_level': 757}, 'visibility': 10000, 'wind': {'speed': 3.09, 'deg': 109, 'gust': 3.24}, 'rain': {'1h': 0.16}, 'clouds': {'all': 95}, 'dt': 1654454183, 'sys': {'type': 1, 'id': 8540, 'country': 'EC', 'sunrise': 1654427879, 'sunset': 1654470786}, 'timezone': -18000, 'id': 3651245, 'name': 'Saraguro', 'cod': 200}, {'coord': {'lon': -79.2013, 'lat': -3.9965}, 'weather': [{'id': 803, 'main': 'Clouds', 'description': 'broken clouds', 'icon': '04d'}], 'base': 'stations', 'main': {'temp': 295.69, 'feels_like': 295.1, 'temp_min': 295.69, 'temp_max': 295.69, 'pressure': 1016, 'humidity': 42}, 'visibility': 10000, 'wind': {'speed': 3.6, 'deg': 210}, 'clouds': {'all': 75}, 'dt': 1654454182, 'sys': {'type': 1, 'id': 8540, 'country': 'EC', 'sunrise': 1654427911, 'sunset': 1654470745}, 'timezone': -18000, 'id': 3654667, 'name': 'Loja', 'cod': 200}, {'coord': {'lon': -79.2227, 'lat': -4.2621}, 'weather': [{'id': 500, 'main': 'Rain', 'description': 'light rain', 'icon': '10d'}], 'base': 'stations', 'main': {'temp': 299.15, 'feels_like': 299.15, 'temp_min': 299.15, 'temp_max': 299.15, 'pressure': 1013, 'humidity': 71, 'sea_level': 1013, 'grnd_level': 849}, 'visibility': 10000, 'wind': {'speed': 1.41, 'deg': 93, 'gust': 2.16}, 'rain': {'1h': 0.32}, 'clouds': {'all': 100}, 'dt': 1654454185, 'sys': {'type': 1, 'id': 8540, 'country': 'EC', 'sunrise': 1654427943, 'sunset': 1654470724}, 'timezone': -18000, 'id': 3650199, 'name': 'Vilcabamba', 'cod': 200}, {'coord': {'lon': -79.2043, 'lat': -3.9895}, 'weather': [{'id': 803, 'main': 'Clouds', 'description': 'broken clouds', 'icon': '04d'}], 'base': 'stations', 'main': {'temp': 295.72, 'feels_like': 295.13, 'temp_min': 295.72, 'temp_max': 295.72, 'pressure': 1016, 'humidity': 42}, 'visibility': 10000, 'wind': {'speed': 3.6, 'deg': 210}, 'clouds': {'all': 75}, 'dt': 1654454185, 'sys': {'type': 1, 'id': 8540, 'country': 'EC', 'sunrise': 1654427911, 'sunset': 1654470747}, 'timezone': -18000, 'id': 3654667, 'name': 'Loja', 'cod': 200}, {'coord': {'lon': -79.2397, 'lat': -3.622}, 'weather': [{'id': 500, 'main': 'Rain', 'description': 'light rain', 'icon': '10d'}], 'base': 'stations', 'main': {'temp': 293.01, 'feels_like': 292.51, 'temp_min': 293.01, 'temp_max': 293.01, 'pressure': 1013, 'humidity': 56, 'sea_level': 1013, 'grnd_level': 762}, 'visibility': 10000, 'wind': {'speed': 3.16, 'deg': 108, 'gust': 3.28}, 'rain': {'1h': 0.16}, 'clouds': {'all': 95}, 'dt': 1654454186, 'sys': {'type': 1, 'id': 8540, 'country': 'EC', 'sunrise': 1654427883, 'sunset': 1654470792}, 'timezone': -18000, 'id': 3651245, 'name': 'Saraguro', 'cod': 200}]\n"
     ]
    }
   ],
   "source": [
    "# import urllib library\n",
    "from urllib.request import urlopen\n",
    "\n",
    "#urlBase = f\"https://api.openweathermap.org/data/2.5/weather?lat={lat}&lon={lon}&appid=8ff197fe8c643a9c8c5bc573eef66675\"\n",
    "urlsCity = []\n",
    "urlsLandmark = []\n",
    "urlsHotel = []\n",
    "\n",
    "responsesCity = []\n",
    "responsesLandmark = []\n",
    "responsesHotel = []\n",
    "\n",
    "cityJson = []\n",
    "landmarkJson = []\n",
    "hotelJson = []\n",
    "for i in range (len(cityLats)):\n",
    "    urlsCity.append(f\"https://api.openweathermap.org/data/2.5/weather?lat={cityLats[i]}&lon={cityLons[i]}&appid=8ff197fe8c643a9c8c5bc573eef66675\")    \n",
    "for url in urlsCity:\n",
    "    responsesCity.append(urlopen(url))\n",
    "for response in responsesCity:\n",
    "    cityJson.append(json.loads(response.read()))\n",
    "\n",
    "for i in range(len(landmarkLats)):\n",
    "    urlsLandmark.append(f\"https://api.openweathermap.org/data/2.5/weather?lat={landmarkLats[i]}&lon={landmarkLons[i]}&appid=8ff197fe8c643a9c8c5bc573eef66675\")    \n",
    "for url in urlsLandmark:\n",
    "    responsesLandmark.append(urlopen(url))\n",
    "for response in responsesLandmark:\n",
    "    landmarkJson.append(json.loads(response.read()))\n",
    "\n",
    "for i in range(len(hotelLats)):\n",
    "    urlsHotel.append(f\"https://api.openweathermap.org/data/2.5/weather?lat={hotelLats[i]}&lon={hotelLons[i]}&appid=8ff197fe8c643a9c8c5bc573eef66675\")    \n",
    "for url in urlsHotel:\n",
    "    responsesHotel.append(urlopen(url))\n",
    "for response in responsesHotel:\n",
    "    hotelJson.append(json.loads(response.read()))\n",
    "#response = urlopen(url)\n",
    "# cityJson = json.loads(response.read())\n",
    "\n",
    "print(\"Lugares\")\n",
    "print(landmarkJson)\n"
   ]
  },
  {
   "cell_type": "code",
   "execution_count": 27,
   "metadata": {},
   "outputs": [
    {
     "name": "stdout",
     "output_type": "stream",
     "text": [
      "http://example.org/destination/CITY/Urdaneta\n",
      "http://example.org/destination/CITY/Zapotillo\n",
      "http://example.org/destination/CITY/Gualel\n",
      "http://example.org/destination/CITY/Vilcabamba\n",
      "http://example.org/destination/CITY/Jimbura\n",
      "http://example.org/destination/CITY/Lluzhapa\n",
      "http://example.org/destination/CITY/Manu\n",
      "http://example.org/destination/LANDMARK/LojaCathedral\n",
      "http://example.org/destination/LANDMARK/LojaMusicMuseum\n",
      "http://example.org/destination/LANDMARK/WaterfallofSininkapak\n",
      "http://example.org/destination/LANDMARK/ParqueUniversitarioLaArgelia\n",
      "http://example.org/destination/LANDMARK/VilcabambaChurch\n",
      "http://example.org/destination/LANDMARK/LojaCityGates\n",
      "http://example.org/destination/LANDMARK/SaraguroMarket\n"
     ]
    }
   ],
   "source": [
    "from unicodedata import normalize\n",
    "\n",
    "#A partir del nombre se fijará la URI, por tanto, se necesita formatear el texto para quitar tildes:\n",
    "a,b = 'áéíóúü','aeiouu'\n",
    "trans = str.maketrans(a,b)\n",
    "\n",
    "# Recorrer la data e ir creando los datos:\n",
    "for (cityName,cityType, cityLat, cityLon, cityState, cityCountry) in zip (cityNames, cityTypes, cityLats, cityLons, cityStates, cityCountries):\n",
    "    datosURI = URIRef(strprefix + cityType.replace(' ', '').translate(trans) + ('/') + cityName.replace(' ', '').translate(trans))\n",
    "    typeDestination = Literal(cityType)\n",
    "    nameDestination = Literal(cityName)\n",
    "    cityLatitude = Literal(cityLat)\n",
    "    cityLongitude = Literal(cityLon)\n",
    "\n",
    "    provinceURI = URIRef(strprefix + cityState.replace(' ','').translate(trans)) # el uso de destino en el prefix queda en duda\n",
    "    province = Literal(cityState)\n",
    "    g.add((provinceURI, RDF.type, schema.State))\n",
    "    g.add((provinceURI, RDFS.label, province))\n",
    "\n",
    "    countryURI = URIRef(strprefix + cityCountry.replace(' ','').translate(trans))\n",
    "    country = Literal(cityCountry)\n",
    "    g.add((countryURI, RDF.type, schema.Country))\n",
    "    g.add((countryURI, RDFS.label, country))\n",
    "\n",
    "    g.add((datosURI, RDF.type, schema.TouristDestination))\n",
    "    g.add((datosURI, schema.name, nameDestination))\n",
    "    g.add((datosURI, schema.latitude, cityLatitude)) \n",
    "    g.add((datosURI, schema.longitude, cityLongitude))\n",
    "    g.add((datosURI, schema.State, provinceURI))\n",
    "    g.add((datosURI, schema.Country, countryURI))\n",
    "\n",
    "\n",
    "    print(datosURI)\n",
    "\n",
    "for (hotelName,hotelType, hotelLat, hotelLon, hotelState, hotelCity, hotelState, hotelCountry) in zip (hotelNames, hotelTypes, hotelLats, hotelLons, hotelCitys, hotelStates,hotelCountrys):\n",
    "    datosURI = URIRef(strprefix + hotelType.replace(' ', '').translate(trans) + ('/') + hotelName.replace(' ', '').translate(trans))\n",
    "    typeDestination = Literal(hotelType)\n",
    "    nameDestination = Literal(hotelName)\n",
    "    hotelLatitude = Literal(hotelLat)\n",
    "    hotelLongitude = Literal(hotelLon)\n",
    "\n",
    "    hotelcityURI = URIRef(strprefix + hotelCity.replace(' ','').translate(trans)) # el uso de destino en el prefix queda en duda\n",
    "    hotelcity = Literal(hotelCity)\n",
    "    g.add((hotelcityURI, RDF.type, schema.City))\n",
    "    g.add((hotelcityURI, RDFS.label, hotelcity))\n",
    "\n",
    "    hotelprovinceURI = URIRef(strprefix + hotelState.replace(' ','').translate(trans)) # el uso de destino en el prefix queda en duda\n",
    "    hotelprovince = Literal(hotelState)\n",
    "    g.add((hotelprovinceURI, RDF.type, schema.State))\n",
    "    g.add((hotelprovinceURI, RDFS.label, hotelprovince))\n",
    "\n",
    "    hotelcountryURI = URIRef(strprefix + hotelCountry.replace(' ','').translate(trans))\n",
    "    hotelcountry = Literal(hotelCountry)\n",
    "    g.add((hotelcountryURI, RDF.type, schema.Country))\n",
    "    g.add((hotelcountryURI, RDFS.label, hotelcountry))\n",
    "\n",
    "    g.add((datosURI, RDF.type, schema.TouristDestination))\n",
    "    g.add((datosURI, schema.name, nameDestination))\n",
    "    g.add((datosURI, schema.latitude, hotelLatitude)) \n",
    "    g.add((datosURI, schema.longitude, hotelLongitude))\n",
    "    g.add((datosURI, schema.City, hotelcityURI))\n",
    "    g.add((datosURI, schema.State, hotelprovinceURI))\n",
    "    g.add((datosURI, schema.Country, hotelcountryURI))\n",
    "\n",
    "    print(datosURI)\n",
    "\n",
    "for (landmarkName,landmarkType, landmarkLat, landmarkLon, landmarkCity, landmarkState, landmarkCountry, landmarkTemp) in zip (landmarkNames, landmarkTypes, landmarkLats, landmarkLons, landmarkCitys, landmarkStates, landmarkCountrys, landmarkJson):\n",
    "    datosURI = URIRef(strprefix + landmarkType.replace(' ', '').translate(trans) + ('/') +landmarkName.replace(' ', '').translate(trans))\n",
    "    typeDestination = Literal(landmarkType)\n",
    "    nameDestination = Literal(landmarkName)\n",
    "    landmarkLatitude = Literal(landmarkLat)\n",
    "    landmarkLongitude = Literal(landmarkLon)\n",
    "    \n",
    "    landmarkTempJ = Literal(landmarkTemp['main'])\n",
    "\n",
    "    landmarkcityURI = URIRef(strprefix + landmarkCity.replace(' ','').translate(trans)) # el uso de destino en el prefix queda en duda\n",
    "    landmarkcity = Literal(landmarkCity)\n",
    "    g.add((landmarkcityURI, RDF.type, schema.City))\n",
    "    g.add((landmarkcityURI, RDFS.label, landmarkcity))\n",
    "\n",
    "    landmarkprovinceURI = URIRef(strprefix + landmarkState.replace(' ','').translate(trans)) # el uso de destino en el prefix queda en duda\n",
    "    landmarkprovince = Literal(landmarkState)\n",
    "    g.add((landmarkprovinceURI, RDF.type, schema.State))\n",
    "    g.add((landmarkprovinceURI, RDFS.label, landmarkprovince))\n",
    "\n",
    "    landmarkcountryURI = URIRef(strprefix + landmarkCountry.replace(' ','').translate(trans))\n",
    "    landmarkcountry = Literal(landmarkCountry)\n",
    "    g.add((landmarkcountryURI, RDF.type, schema.Country))\n",
    "    g.add((landmarkcountryURI, RDFS.label, landmarkcountry))\n",
    "\n",
    "    g.add((datosURI, RDF.type, schema.TouristDestination))\n",
    "    g.add((datosURI, schema.name, nameDestination))\n",
    "    g.add((datosURI, schema.latitude, landmarkLatitude)) \n",
    "    g.add((datosURI, schema.longitude, landmarkLongitude))\n",
    "    g.add((datosURI, schema.City, landmarkcityURI))\n",
    "    g.add((datosURI, schema.State, landmarkprovinceURI))\n",
    "    g.add((datosURI, schema.Country, landmarkcountryURI))\n",
    "    g.add((datosURI, weat.Temperature, landmarkTempJ))\n",
    "\n",
    "\n",
    "    print(datosURI)"
   ]
  },
  {
   "cell_type": "code",
   "execution_count": 28,
   "metadata": {},
   "outputs": [
    {
     "data": {
      "text/plain": [
       "<Graph identifier=N319b5c79fe2345c5af15e25476c09591 (<class 'rdflib.graph.Graph'>)>"
      ]
     },
     "execution_count": 28,
     "metadata": {},
     "output_type": "execute_result"
    }
   ],
   "source": [
    "g.serialize(destination=\"datosRDF.ttl\")"
   ]
  },
  {
   "cell_type": "code",
   "execution_count": 107,
   "metadata": {},
   "outputs": [
    {
     "name": "stdout",
     "output_type": "stream",
     "text": [
      "<class 'dict'>\n"
     ]
    }
   ],
   "source": [
    "\n"
   ]
  }
 ],
 "metadata": {
  "interpreter": {
   "hash": "34abf383d74fb4a0aef96529b01619ebbdc393921705edd13d4d481583cfdfc2"
  },
  "kernelspec": {
   "display_name": "Python 3.8.5 64-bit",
   "language": "python",
   "name": "python3"
  },
  "language_info": {
   "codemirror_mode": {
    "name": "ipython",
    "version": 3
   },
   "file_extension": ".py",
   "mimetype": "text/x-python",
   "name": "python",
   "nbconvert_exporter": "python",
   "pygments_lexer": "ipython3",
   "version": "3.8.5"
  },
  "orig_nbformat": 4
 },
 "nbformat": 4,
 "nbformat_minor": 2
}
