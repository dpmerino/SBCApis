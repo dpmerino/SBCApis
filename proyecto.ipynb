{
 "cells": [
  {
   "cell_type": "code",
   "execution_count": 73,
   "metadata": {},
   "outputs": [],
   "source": [
    "from rdflib import Graph\n",
    "from rdflib import URIRef, BNode, Literal, RDF, RDFS, XSD\n",
    "import json\n",
    "import re\n",
    "from datetime import datetime\n",
    "import arrow"
   ]
  },
  {
   "cell_type": "code",
   "execution_count": 72,
   "metadata": {},
   "outputs": [],
   "source": [
    "from rdflib import Namespace\n",
    "# prefix for my data\n",
    "strprefix = \"http://example.org/destination/\"\n",
    "data = Namespace(strprefix) \n",
    "schema = Namespace('https://schema.org/')\n",
    "weat = Namespace('https://bimerr.iot.linkeddata.es/def/weather/')\n",
    "dbo = Namespace('https://dbpedia.org/ontology/')"
   ]
  },
  {
   "cell_type": "code",
   "execution_count": 3,
   "metadata": {},
   "outputs": [
    {
     "name": "stdout",
     "output_type": "stream",
     "text": [
      "{'term': 'loja,ecuador', 'suggestions': [{'group': 'CITY_GROUP', 'entities': [{'geoId': '739209075957641216', 'destinationId': '739209075957641216', 'landmarkCityDestinationId': None, 'type': 'CITY', 'redirectPage': 'DEFAULT_PAGE', 'latitude': -3.6394344211967353, 'longitude': -79.16831395316717, 'searchDetail': None, 'caption': 'Urdaneta, Loja Province, Ecuador', 'name': 'Urdaneta'}, {'geoId': '553248635973463947', 'destinationId': '11403341', 'landmarkCityDestinationId': None, 'type': 'CITY', 'redirectPage': 'DEFAULT_PAGE', 'latitude': -4.362287242855844, 'longitude': -80.25714249772747, 'searchDetail': None, 'caption': 'Zapotillo, Zapotillo, Loja Province, Ecuador', 'name': 'Zapotillo'}, {'geoId': '739208770310778880', 'destinationId': '739208770310778880', 'landmarkCityDestinationId': None, 'type': 'CITY', 'redirectPage': 'DEFAULT_PAGE', 'latitude': -3.7536272587413535, 'longitude': -79.37310779298699, 'searchDetail': None, 'caption': 'Gualel, Loja Province, Ecuador', 'name': 'Gualel'}, {'geoId': '6141628', 'destinationId': '430835', 'landmarkCityDestinationId': None, 'type': 'CITY', 'redirectPage': 'DEFAULT_PAGE', 'latitude': -4.279782518845229, 'longitude': -79.22828827501147, 'searchDetail': None, 'caption': 'Vilcabamba, Loja Province, Ecuador', 'name': 'Vilcabamba'}, {'geoId': '553248635973466085', 'destinationId': '11399014', 'landmarkCityDestinationId': None, 'type': 'CITY', 'redirectPage': 'DEFAULT_PAGE', 'latitude': -4.6543353997929895, 'longitude': -79.4439252024845, 'searchDetail': None, 'caption': 'Jimbura, Loja Province, Ecuador', 'name': 'Jimbura'}, {'geoId': '739209559055679488', 'destinationId': '739209559055679488', 'landmarkCityDestinationId': None, 'type': 'CITY', 'redirectPage': 'DEFAULT_PAGE', 'latitude': -3.492462417354487, 'longitude': -79.32495698683137, 'searchDetail': None, 'caption': 'Lluzhapa, Loja Province, Ecuador', 'name': 'Lluzhapa'}, {'geoId': '739208910594658304', 'destinationId': '739208910594658304', 'landmarkCityDestinationId': None, 'type': 'CITY', 'redirectPage': 'DEFAULT_PAGE', 'latitude': -3.5291942265345875, 'longitude': -79.42642033242456, 'searchDetail': None, 'caption': 'Manu, Loja Province, Ecuador', 'name': 'Manu'}]}, {'group': 'HOTEL_GROUP', 'entities': []}, {'group': 'LANDMARK_GROUP', 'entities': [{'geoId': '6266178', 'destinationId': '1769968', 'landmarkCityDestinationId': '1746599', 'type': 'LANDMARK', 'redirectPage': 'DEFAULT_PAGE', 'latitude': -3.99648, 'longitude': -79.20131, 'searchDetail': None, 'caption': 'Loja Cathedral, Loja, Loja Province, Ecuador', 'name': 'Loja Cathedral'}, {'geoId': '553248621532375146', 'destinationId': '10518677', 'landmarkCityDestinationId': '1746599', 'type': 'LANDMARK', 'redirectPage': 'DEFAULT_PAGE', 'latitude': -3.9981, 'longitude': -79.201163, 'searchDetail': None, 'caption': 'Loja Music Museum, Loja, Loja Province, Ecuador', 'name': 'Loja Music Museum'}, {'geoId': '553248621563843915', 'destinationId': '10450174', 'landmarkCityDestinationId': '427461', 'type': 'LANDMARK', 'redirectPage': 'DEFAULT_PAGE', 'latitude': -3.632289, 'longitude': -79.221056, 'searchDetail': None, 'caption': 'Waterfall of Sininkapak, Saraguro, Loja Province, Ecuador', 'name': 'Waterfall of Sininkapak'}, {'geoId': '553248621532375140', 'destinationId': '10518672', 'landmarkCityDestinationId': '1746599', 'type': 'LANDMARK', 'redirectPage': 'DEFAULT_PAGE', 'latitude': -3.9994, 'longitude': -79.203, 'searchDetail': None, 'caption': 'Parque Universitario La Argelia, Loja, Loja Province, Ecuador', 'name': 'Parque Universitario La Argelia'}, {'geoId': '6287406', 'destinationId': '1780809', 'landmarkCityDestinationId': '430835', 'type': 'LANDMARK', 'redirectPage': 'DEFAULT_PAGE', 'latitude': -4.262117, 'longitude': -79.222736, 'searchDetail': None, 'caption': 'Vilcabamba Church, Vilcabamba, Loja Province, Ecuador', 'name': 'Vilcabamba Church'}, {'geoId': '6266170', 'destinationId': '1769967', 'landmarkCityDestinationId': '1746599', 'type': 'LANDMARK', 'redirectPage': 'DEFAULT_PAGE', 'latitude': -3.989522, 'longitude': -79.204251, 'searchDetail': None, 'caption': 'Loja City Gates, Loja, Loja Province, Ecuador', 'name': 'Loja City Gates'}, {'geoId': '553248621563843914', 'destinationId': '10450127', 'landmarkCityDestinationId': '427461', 'type': 'LANDMARK', 'redirectPage': 'DEFAULT_PAGE', 'latitude': -3.62201, 'longitude': -79.239702, 'searchDetail': None, 'caption': 'Saraguro Market, Saraguro, Loja Province, Ecuador', 'name': 'Saraguro Market'}]}, {'group': 'TRANSPORT_GROUP', 'entities': [{'geoId': '6029735', 'destinationId': '1666240', 'landmarkCityDestinationId': None, 'type': 'AIRPORT', 'redirectPage': 'DEFAULT_PAGE', 'latitude': -3.995892, 'longitude': -79.371925, 'searchDetail': None, 'caption': 'Loja, Ecuador (LOH-Camilo Ponce Enriquez)', 'name': 'Loja (LOH-Camilo Ponce Enriquez)'}]}], 'geocodeFallback': False}\n"
     ]
    }
   ],
   "source": [
    "ruta = 'Data/loja.json'\n",
    "obj = json.load(open(ruta))\n",
    "del obj['moresuggestions']\n",
    "del obj['autoSuggestInstance']\n",
    "del obj['trackingID']\n",
    "del obj['misspellingfallback']\n",
    "print(obj)"
   ]
  },
  {
   "cell_type": "code",
   "execution_count": 4,
   "metadata": {},
   "outputs": [
    {
     "name": "stdout",
     "output_type": "stream",
     "text": [
      "[' Ecuador', ' Ecuador', ' Ecuador', ' Ecuador', ' Ecuador', ' Ecuador', ' Ecuador']\n",
      "[' Loja Province', ' Loja Province', ' Loja Province', ' Loja Province', ' Loja Province', ' Loja Province', ' Loja Province']\n",
      "[' Loja', ' Loja', ' Saraguro', ' Loja', ' Vilcabamba', ' Loja', ' Saraguro']\n"
     ]
    }
   ],
   "source": [
    "busqueda = obj['term']\n",
    "# Grupo de ciudades\n",
    "cityLats = []\n",
    "cityLons = []\n",
    "cityNames = []\n",
    "cityTypes = []\n",
    "cityStates = []\n",
    "cityCountries = []\n",
    "# Grupo de lugares de interés\n",
    "landmarkLats = []\n",
    "landmarkLons = []\n",
    "landmarkNames = []\n",
    "landmarkTypes = []\n",
    "landmarkCitys = []\n",
    "landmarkStates = []\n",
    "landmarkCountrys = []\n",
    "# Grupo de hoteles\n",
    "hotelLats = []\n",
    "hotelLons = []\n",
    "hotelNames = []\n",
    "hotelTypes = []\n",
    "hotelCitys = []\n",
    "hotelStates = []\n",
    "hotelCountrys = []\n",
    "\n",
    "for suggestion in obj['suggestions']:\n",
    "    if suggestion['group'] == 'CITY_GROUP':\n",
    "        for entitie in suggestion['entities']:\n",
    "            cityLats.append(entitie['latitude'])    \n",
    "            cityLons.append(entitie['longitude'])\n",
    "            cityNames.append(entitie['name'])\n",
    "            cityTypes.append(entitie['type'])\n",
    "            location = re.split(',|,|,|,|,',entitie['caption'])\n",
    "            cityStates.append(location[-2])\n",
    "            cityCountries.append(location[-1])\n",
    "    if suggestion['group'] == 'LANDMARK_GROUP':\n",
    "        for entitie in suggestion['entities']:\n",
    "            landmarkLats.append(entitie['latitude'])\n",
    "            landmarkLons.append(entitie['longitude'])\n",
    "            landmarkNames.append(entitie['name'])\n",
    "            landmarkTypes.append(entitie['type'])\n",
    "            location = re.split(',|,|,|,|,',entitie['caption'])\n",
    "            landmarkCitys.append(location[-3])\n",
    "            landmarkStates.append(location[-2])\n",
    "            landmarkCountrys.append(location[-1])\n",
    "    if suggestion['group'] == 'HOTEL_GROUP':\n",
    "        for entitie in suggestion['entities']:\n",
    "            hotelLats.append(entitie['latitude'])\n",
    "            hotelLons.append(entitie['longitude'])\n",
    "            hotelNames.append(entitie['name'])\n",
    "            hotelTypes.append(entitie['type'])\n",
    "            location = re.split(',|,|,|,|,',entitie['caption'])\n",
    "            hotelCitys.append(location[-3])\n",
    "            hotelStates.append(location[-2])\n",
    "            hotelCountrys.append(location[-1])\n",
    "\n",
    "print(landmarkCountrys)\n",
    "print(landmarkStates)\n",
    "print(landmarkCitys)"
   ]
  },
  {
   "cell_type": "code",
   "execution_count": 5,
   "metadata": {},
   "outputs": [
    {
     "name": "stdout",
     "output_type": "stream",
     "text": [
      "Lugares\n",
      "[{'coord': {'lon': -79.2013, 'lat': -3.9965}, 'weather': [{'id': 804, 'main': 'Clouds', 'description': 'overcast clouds', 'icon': '04n'}], 'base': 'stations', 'main': {'temp': 286.99, 'feels_like': 286.88, 'temp_min': 286.99, 'temp_max': 286.99, 'pressure': 1015, 'humidity': 94, 'sea_level': 1015, 'grnd_level': 796}, 'visibility': 10000, 'wind': {'speed': 0.85, 'deg': 70, 'gust': 0.98}, 'clouds': {'all': 100}, 'dt': 1654478706, 'sys': {'country': 'EC', 'sunrise': 1654427911, 'sunset': 1654470745}, 'timezone': -18000, 'id': 3654667, 'name': 'Loja', 'cod': 200}, {'coord': {'lon': -79.2013, 'lat': -3.9965}, 'weather': [{'id': 804, 'main': 'Clouds', 'description': 'overcast clouds', 'icon': '04n'}], 'base': 'stations', 'main': {'temp': 286.99, 'feels_like': 286.88, 'temp_min': 286.99, 'temp_max': 286.99, 'pressure': 1015, 'humidity': 94, 'sea_level': 1015, 'grnd_level': 796}, 'visibility': 10000, 'wind': {'speed': 0.85, 'deg': 70, 'gust': 0.98}, 'clouds': {'all': 100}, 'dt': 1654478706, 'sys': {'country': 'EC', 'sunrise': 1654427911, 'sunset': 1654470745}, 'timezone': -18000, 'id': 3654667, 'name': 'Loja', 'cod': 200}, {'coord': {'lon': -79.2211, 'lat': -3.6323}, 'weather': [{'id': 804, 'main': 'Clouds', 'description': 'overcast clouds', 'icon': '04n'}], 'base': 'stations', 'main': {'temp': 284.46, 'feels_like': 284.05, 'temp_min': 284.46, 'temp_max': 284.46, 'pressure': 1016, 'humidity': 92, 'sea_level': 1016, 'grnd_level': 755}, 'visibility': 10000, 'wind': {'speed': 1.49, 'deg': 110, 'gust': 1.75}, 'clouds': {'all': 99}, 'dt': 1654478708, 'sys': {'country': 'EC', 'sunrise': 1654427879, 'sunset': 1654470786}, 'timezone': -18000, 'id': 3651245, 'name': 'Saraguro', 'cod': 200}, {'coord': {'lon': -79.2013, 'lat': -3.9965}, 'weather': [{'id': 804, 'main': 'Clouds', 'description': 'overcast clouds', 'icon': '04n'}], 'base': 'stations', 'main': {'temp': 286.99, 'feels_like': 286.88, 'temp_min': 286.99, 'temp_max': 286.99, 'pressure': 1015, 'humidity': 94, 'sea_level': 1015, 'grnd_level': 796}, 'visibility': 10000, 'wind': {'speed': 0.85, 'deg': 70, 'gust': 0.98}, 'clouds': {'all': 100}, 'dt': 1654478706, 'sys': {'country': 'EC', 'sunrise': 1654427911, 'sunset': 1654470745}, 'timezone': -18000, 'id': 3654667, 'name': 'Loja', 'cod': 200}, {'coord': {'lon': -79.2227, 'lat': -4.2621}, 'weather': [{'id': 804, 'main': 'Clouds', 'description': 'overcast clouds', 'icon': '04n'}], 'base': 'stations', 'main': {'temp': 290.2, 'feels_like': 290.36, 'temp_min': 290.2, 'temp_max': 290.2, 'pressure': 1016, 'humidity': 92, 'sea_level': 1016, 'grnd_level': 849}, 'visibility': 10000, 'wind': {'speed': 1.56, 'deg': 107, 'gust': 1.72}, 'clouds': {'all': 100}, 'dt': 1654478710, 'sys': {'country': 'EC', 'sunrise': 1654427943, 'sunset': 1654470724}, 'timezone': -18000, 'id': 3650199, 'name': 'Vilcabamba', 'cod': 200}, {'coord': {'lon': -79.2043, 'lat': -3.9895}, 'weather': [{'id': 804, 'main': 'Clouds', 'description': 'overcast clouds', 'icon': '04n'}], 'base': 'stations', 'main': {'temp': 287.04, 'feels_like': 286.94, 'temp_min': 287.04, 'temp_max': 287.04, 'pressure': 1015, 'humidity': 94, 'sea_level': 1015, 'grnd_level': 797}, 'visibility': 10000, 'wind': {'speed': 0.88, 'deg': 70, 'gust': 0.99}, 'clouds': {'all': 100}, 'dt': 1654478713, 'sys': {'country': 'EC', 'sunrise': 1654427911, 'sunset': 1654470747}, 'timezone': -18000, 'id': 3654667, 'name': 'Loja', 'cod': 200}, {'coord': {'lon': -79.2397, 'lat': -3.622}, 'weather': [{'id': 804, 'main': 'Clouds', 'description': 'overcast clouds', 'icon': '04n'}], 'base': 'stations', 'main': {'temp': 284.89, 'feels_like': 284.52, 'temp_min': 284.89, 'temp_max': 284.89, 'pressure': 1016, 'humidity': 92, 'sea_level': 1016, 'grnd_level': 759}, 'visibility': 10000, 'wind': {'speed': 1.67, 'deg': 112, 'gust': 1.84}, 'clouds': {'all': 99}, 'dt': 1654478714, 'sys': {'country': 'EC', 'sunrise': 1654427883, 'sunset': 1654470792}, 'timezone': -18000, 'id': 3651245, 'name': 'Saraguro', 'cod': 200}]\n"
     ]
    }
   ],
   "source": [
    "# import urllib library\n",
    "from urllib.request import urlopen\n",
    "\n",
    "#urlBase = f\"https://api.openweathermap.org/data/2.5/weather?lat={lat}&lon={lon}&appid=8ff197fe8c643a9c8c5bc573eef66675\"\n",
    "urlsCity = []\n",
    "urlsLandmark = []\n",
    "urlsHotel = []\n",
    "\n",
    "responsesCity = []\n",
    "responsesLandmark = []\n",
    "responsesHotel = []\n",
    "\n",
    "cityJson = []\n",
    "landmarkJson = []\n",
    "hotelJson = []\n",
    "\n",
    "# Ciudades\n",
    "for i in range (len(cityLats)):\n",
    "    urlsCity.append(f\"https://api.openweathermap.org/data/2.5/weather?lat={cityLats[i]}&lon={cityLons[i]}&appid=8ff197fe8c643a9c8c5bc573eef66675\")    \n",
    "for url in urlsCity:\n",
    "    responsesCity.append(urlopen(url))\n",
    "for response in responsesCity:\n",
    "    cityJson.append(json.loads(response.read()))\n",
    "\n",
    "# Lugar\n",
    "for i in range(len(landmarkLats)):\n",
    "    urlsLandmark.append(f\"https://api.openweathermap.org/data/2.5/weather?lat={landmarkLats[i]}&lon={landmarkLons[i]}&appid=8ff197fe8c643a9c8c5bc573eef66675\")    \n",
    "for url in urlsLandmark:\n",
    "    responsesLandmark.append(urlopen(url))\n",
    "for response in responsesLandmark:\n",
    "    landmarkJson.append(json.loads(response.read()))\n",
    "\n",
    "# Hotel\n",
    "for i in range(len(hotelLats)):\n",
    "    urlsHotel.append(f\"https://api.openweathermap.org/data/2.5/weather?lat={hotelLats[i]}&lon={hotelLons[i]}&appid=8ff197fe8c643a9c8c5bc573eef66675\")    \n",
    "for url in urlsHotel:\n",
    "    responsesHotel.append(urlopen(url))\n",
    "for response in responsesHotel:\n",
    "    hotelJson.append(json.loads(response.read()))\n",
    "#response = urlopen(url)\n",
    "# cityJson = json.loads(response.read())\n",
    "\n",
    "print(\"Lugares\")\n",
    "print(landmarkJson)"
   ]
  },
  {
   "cell_type": "code",
   "execution_count": 88,
   "metadata": {},
   "outputs": [
    {
     "name": "stdout",
     "output_type": "stream",
     "text": [
      "2022-06-05 20:25:05\n"
     ]
    }
   ],
   "source": [
    "# for i in range(len(cityLats)):\n",
    "#     # print(round(cityLat[i],4))\\n\",\n",
    "#     # print(data_json[i]['coord']['lat'])\\n\",\n",
    "#     if(round(cityLats[i], 4) == cityJson[i]['coord']['lat'] and (round(cityLons[i], 4) == cityJson[i]['coord']['lon'])):\n",
    "#         print(cityNames[i])\n",
    "#         print(cityJson[i]['main']['temp'])\n",
    "#         print(\"....\")\n",
    "# Ciudades\n",
    "tempCitys = []\n",
    "humedadCitys = []\n",
    "presionCitys = []\n",
    "nivelMarCitys = []\n",
    "tiempoCitys = []\n",
    "\n",
    "# Lugares\n",
    "tempLandmarks = []\n",
    "humedadLandmarks = []\n",
    "presionLandmarks = []\n",
    "nivelMarLandmarks = []\n",
    "tiempoLandmarks = []\n",
    "\n",
    "# Hoteles\n",
    "tempHotels = []\n",
    "humedadHotels = []\n",
    "presionHotels = []\n",
    "nivelMarHotels = []\n",
    "tiempoHotels = []\n",
    "\n",
    "for i in range (len(cityJson)):\n",
    "    ##if(round(cityLats[i], 4) == cityJson[i]['coord']['lat'] and (round(cityLons[i], 4) == cityJson[i]['coord']['lon'])):\n",
    "    tempCitys.append(cityJson[i]['main']['temp'])\n",
    "    presionCitys.append(cityJson[i]['main']['pressure'])\n",
    "    humedadCitys.append(cityJson[i]['main']['humidity'])\n",
    "    nivelMarCitys.append(cityJson[i]['main']['sea_level'])\n",
    "    tiempo = datetime.utcfromtimestamp(cityJson[i]['dt']).strftime('%Y-%m-%d %H:%M:%S')\n",
    "    utc = arrow.get(tiempo)\n",
    "    local = utc.to('-05:00')\n",
    "    nuevoTiempo = local.format('YYYY-MM-DD HH:mm:ss')\n",
    "    tiempoCitys.append(nuevoTiempo)\n",
    "print(tiempoCitys[i])\n",
    "\n",
    "for i in range (len(landmarkJson)):\n",
    "    tempLandmarks.append(landmarkJson[i]['main']['temp'])\n",
    "    presionLandmarks.append(landmarkJson[i]['main']['pressure'])\n",
    "    humedadLandmarks.append(landmarkJson[i]['main']['humidity'])\n",
    "    nivelMarLandmarks.append(landmarkJson[i]['main']['sea_level'])\n",
    "    tiempo = datetime.utcfromtimestamp(landmarkJson[i]['dt']).strftime('%Y-%m-%d %H:%M:%S')\n",
    "    utc = arrow.get(tiempo)\n",
    "    local = utc.to('-05:00')\n",
    "    nuevoTiempo = local.format('YYYY-MM-DD HH:mm:ss')\n",
    "    tiempoLandmarks.append(nuevoTiempo)\n",
    "\n",
    "for i in range (len(hotelJson)):\n",
    "    tempHotels.append(hotelJson[i]['main']['temp'])\n",
    "    presionHotels.append(hotelJson[i]['main']['pressure'])\n",
    "    humedadHotels.append(hotelJson[i]['main']['humidity'])\n",
    "    nivelMarHotels.append(hotelJson[i]['main']['sea_level'])\n",
    "    tiempo = datetime.utcfromtimestamp(hotelJson[i]['dt']).strftime('%Y-%m-%d %H:%M:%S')\n",
    "    utc = arrow.get(tiempo)\n",
    "    local = utc.to('-05:00')\n",
    "    nuevoTiempo = local.format('YYYY-MM-DD HH:mm:ss')\n",
    "    tiempoHotels.append(nuevoTiempo)"
   ]
  },
  {
   "cell_type": "code",
   "execution_count": 89,
   "metadata": {},
   "outputs": [
    {
     "name": "stdout",
     "output_type": "stream",
     "text": [
      "[1015, 1015, 1016, 1015, 1016, 1015, 1016]\n",
      "[1015, 1015, 1016, 1015, 1016, 1015, 1016]\n"
     ]
    }
   ],
   "source": [
    "print(nivelMarLandmarks)\n",
    "print(presionLandmarks)"
   ]
  },
  {
   "cell_type": "code",
   "execution_count": 80,
   "metadata": {},
   "outputs": [],
   "source": [
    "# Create my graph:\n",
    "\n",
    "g = Graph()"
   ]
  },
  {
   "cell_type": "code",
   "execution_count": 82,
   "metadata": {},
   "outputs": [
    {
     "name": "stdout",
     "output_type": "stream",
     "text": [
      "http://example.org/destination/CITY/Urdaneta\n",
      "http://example.org/destination/CITY/Zapotillo\n",
      "http://example.org/destination/CITY/Gualel\n",
      "http://example.org/destination/CITY/Vilcabamba\n",
      "http://example.org/destination/CITY/Jimbura\n",
      "http://example.org/destination/CITY/Lluzhapa\n",
      "http://example.org/destination/CITY/Manu\n",
      "http://example.org/destination/LANDMARK/LojaCathedral\n",
      "http://example.org/destination/LANDMARK/LojaMusicMuseum\n",
      "http://example.org/destination/LANDMARK/WaterfallofSininkapak\n",
      "http://example.org/destination/LANDMARK/ParqueUniversitarioLaArgelia\n",
      "http://example.org/destination/LANDMARK/VilcabambaChurch\n",
      "http://example.org/destination/LANDMARK/LojaCityGates\n",
      "http://example.org/destination/LANDMARK/SaraguroMarket\n"
     ]
    }
   ],
   "source": [
    "from unicodedata import normalize\n",
    "\n",
    "#A partir del nombre se fijará la URI, por tanto, se necesita formatear el texto para quitar tildes:\n",
    "a,b = 'áéíóúü','aeiouu'\n",
    "trans = str.maketrans(a,b)\n",
    "\n",
    "# Recorrer la data e ir creando los datos:\n",
    "\n",
    "#tempCity, humedadCity, presionCity, nivelMarCity, tiempoCity\n",
    "for (cityName,cityType, cityLat, cityLon, cityState, cityCountry, tempCity, humedadCity, presionCity, nivelMarCity, tiempoCity) in zip (cityNames, cityTypes, cityLats, cityLons, cityStates, cityCountries,tempCitys, humedadCitys, presionCitys, nivelMarCitys, tiempoCitys):\n",
    "    datosURI = URIRef(strprefix + cityType.replace(' ', '').translate(trans) + ('/') + cityName.replace(' ', '').translate(trans))\n",
    "    typeDestination = Literal(cityType)\n",
    "    nameDestination = Literal(cityName)\n",
    "    cityLatitude = Literal(cityLat, datatype=XSD.float)\n",
    "    cityLongitude = Literal(cityLon, datatype=XSD.float)\n",
    "    tCity= Literal(tempCity, datatype=XSD.float)\n",
    "    hCity = Literal(humedadCity)\n",
    "    pCity = Literal(presionCity)\n",
    "    nMaCity = Literal(nivelMarCity)\n",
    "    tiCity = Literal(tiempoCity)\n",
    "    \n",
    "    \n",
    "    provinceURI = URIRef(strprefix + cityState.replace(' ','').translate(trans)) # el uso de destino en el prefix queda en duda\n",
    "    province = Literal(cityState)\n",
    "    g.add((provinceURI, RDF.type, schema.State))\n",
    "    g.add((provinceURI, RDFS.label, province))\n",
    "\n",
    "    countryURI = URIRef(strprefix + cityCountry.replace(' ','').translate(trans))\n",
    "    country = Literal(cityCountry)\n",
    "    g.add((countryURI, RDF.type, schema.Country))\n",
    "    g.add((countryURI, RDFS.label, country))\n",
    "\n",
    "    g.add((datosURI, RDF.type, schema.TouristDestination))\n",
    "    g.add((datosURI, schema.name, nameDestination))\n",
    "    g.add((datosURI, schema.latitude, cityLatitude)) \n",
    "    g.add((datosURI, schema.longitude, cityLongitude))\n",
    "    g.add((datosURI, schema.State, provinceURI))\n",
    "    g.add((datosURI, schema.Country, countryURI))\n",
    "    g.add((datosURI, weat.Temperature, tCity))\n",
    "    g.add((datosURI, weat.Humidity, hCity))\n",
    "    g.add((datosURI, weat.Pressure, pCity))\n",
    "    g.add((datosURI, dbo.elevation, nMaCity))\n",
    "\n",
    "    print(datosURI)\n",
    "\n",
    "# Lugares\n",
    "for (landmarkName,landmarkType, landmarkLat, landmarkLon, landmarkState, landmarkCountry, templandmark, humedadlandmark, presionlandmark, tiempolandmark) in zip (landmarkNames, landmarkTypes,landmarkLats, landmarkLons, landmarkStates, landmarkCountrys, tempLandmarks, humedadLandmarks, presionLandmarks, tiempoLandmarks):\n",
    "    datosURI = URIRef(strprefix + landmarkType.replace(' ', '').translate(trans) + ('/') + landmarkName.replace(' ', '').translate(trans))\n",
    "    typeDestination = Literal(landmarkType)\n",
    "    nameDestination = Literal(landmarkName)\n",
    "    landmarkLatitude = Literal(landmarkLat, datatype=XSD.float)\n",
    "    landmarkLongitude = Literal(landmarkLon, datatype=XSD.float)\n",
    "    tlandmark= Literal(templandmark, datatype=XSD.float)\n",
    "    hlandmark = Literal(humedadlandmark)\n",
    "    plandmark = Literal(presionlandmark)\n",
    "    tilandmark = Literal(tiempolandmark)\n",
    "    \n",
    "    \n",
    "    landmarkprovinceURI = URIRef(strprefix + landmarkState.replace(' ','').translate(trans)) # el uso de destino en el prefix queda en duda\n",
    "    landmarkprovince = Literal(landmarkState)\n",
    "    g.add((landmarkprovinceURI, RDF.type, schema.State))\n",
    "    g.add((landmarkprovinceURI, RDFS.label, province))\n",
    "\n",
    "    landmarkcountryURI = URIRef(strprefix + landmarkCountry.replace(' ','').translate(trans))\n",
    "    landmarkcountry = Literal(landmarkCountry)\n",
    "    g.add((landmarkcountryURI, RDF.type, schema.Country))\n",
    "    g.add((landmarkcountryURI, RDFS.label, landmarkcountry))\n",
    "\n",
    "    g.add((datosURI, RDF.type, schema.TouristDestination))\n",
    "    g.add((datosURI, schema.name, nameDestination))\n",
    "    g.add((datosURI, schema.latitude, landmarkLatitude)) \n",
    "    g.add((datosURI, schema.longitude, landmarkLongitude))\n",
    "    g.add((datosURI, schema.State, landmarkprovinceURI))\n",
    "    g.add((datosURI, schema.Country, landmarkcountryURI))\n",
    "    g.add((datosURI, weat.Temperature, tlandmark))\n",
    "    g.add((datosURI, weat.Humidity, hlandmark))\n",
    "    g.add((datosURI, weat.Pressure, plandmark))\n",
    "\n",
    "    print(datosURI)\n",
    "\n",
    "\n",
    "\n",
    "# Hoteles\n",
    "for (hotelName,hotelType, hotelLat, hotelLon, hotelState, hotelCountry, temphotel, humedadhotel, presionhotel,nivelMarhotel, tiempohotel) in zip (hotelNames, hotelTypes, hotelLats, hotelLons, hotelStates, hotelCountrys, tempHotels, humedadHotels, presionHotels,nivelMarHotels, tiempoHotels):\n",
    "    datosURI = URIRef(strprefix + landmarkType.replace(' ', '').translate(trans) + ('/') + hotelName.replace(' ', '').translate(trans))\n",
    "    typeDestination = Literal(hotelType)\n",
    "    nameDestination = Literal(hotelName)\n",
    "    hotelLatitude = Literal(hotelLat, datatype=XSD.float)\n",
    "    hotelLongitude = Literal(hotelLon, datatype=XSD.float)\n",
    "    thotel= Literal(temphotel, datatype=XSD.float)\n",
    "    hhotel = Literal(humedadhotel)\n",
    "    photel = Literal(presionhotel)\n",
    "    nMahotel = Literal(nivelMarhotel)\n",
    "    tihotel = Literal(tiempohotel)\n",
    "    \n",
    "    \n",
    "    hotelprovinceURI = URIRef(strprefix + hotelState.replace(' ','').translate(trans)) # el uso de destino en el prefix queda en duda\n",
    "    hotelprovince = Literal(hotelState)\n",
    "    g.add((hotelprovinceURI, RDF.type, schema.State))\n",
    "    g.add((hotelprovinceURI, RDFS.label, province))\n",
    "\n",
    "    hotelcountryURI = URIRef(strprefix + hotelCountry.replace(' ','').translate(trans))\n",
    "    hotelcountry = Literal(hotelCountry)\n",
    "    g.add((hotelcountryURI, RDF.type, schema.Country))\n",
    "    g.add((hotelcountryURI, RDFS.label, hotelcountry))\n",
    "\n",
    "    g.add((datosURI, RDF.type, schema.TouristDestination))\n",
    "    g.add((datosURI, schema.name, nameDestination))\n",
    "    g.add((datosURI, schema.latitude, hotelLatitude)) \n",
    "    g.add((datosURI, schema.longitude, hotelLongitude))\n",
    "    g.add((datosURI, schema.State, hotelprovinceURI))\n",
    "    g.add((datosURI, schema.Country, hotelcountryURI))\n",
    "    g.add((datosURI, weat.Temperature, thotel))\n",
    "    g.add((datosURI, weat.Humidity, hhotel))\n",
    "    g.add((datosURI, weat.Pressure, photel))\n",
    "    g.add((datosURI, dbo.elevation, nMahotel))\n",
    "\n",
    "    print(datosURI)"
   ]
  },
  {
   "cell_type": "code",
   "execution_count": 83,
   "metadata": {},
   "outputs": [
    {
     "data": {
      "text/plain": [
       "<Graph identifier=N5601c064c9d2487ab9393d16ba6972af (<class 'rdflib.graph.Graph'>)>"
      ]
     },
     "execution_count": 83,
     "metadata": {},
     "output_type": "execute_result"
    }
   ],
   "source": [
    "g.serialize(destination=\"datosRDF.ttl\")"
   ]
  },
  {
   "cell_type": "code",
   "execution_count": 107,
   "metadata": {},
   "outputs": [
    {
     "name": "stdout",
     "output_type": "stream",
     "text": [
      "<class 'dict'>\n"
     ]
    }
   ],
   "source": [
    "\n"
   ]
  }
 ],
 "metadata": {
  "interpreter": {
   "hash": "34abf383d74fb4a0aef96529b01619ebbdc393921705edd13d4d481583cfdfc2"
  },
  "kernelspec": {
   "display_name": "Python 3.8.5 64-bit",
   "language": "python",
   "name": "python3"
  },
  "language_info": {
   "codemirror_mode": {
    "name": "ipython",
    "version": 3
   },
   "file_extension": ".py",
   "mimetype": "text/x-python",
   "name": "python",
   "nbconvert_exporter": "python",
   "pygments_lexer": "ipython3",
   "version": "3.8.5"
  },
  "orig_nbformat": 4
 },
 "nbformat": 4,
 "nbformat_minor": 2
}
