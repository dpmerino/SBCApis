{
 "cells": [
  {
   "cell_type": "code",
   "execution_count": 2,
   "metadata": {},
   "outputs": [],
   "source": [
    "#!pip instal rdflib\n",
    "from rdflib import URIRef, Namespace\n",
    "from rdflib.namespace import FOAF as foaf, RDF as rdf, OWL as owl\n",
    "\n",
    "dbo = Namespace('http://dbpedia.org/ontology/')\n",
    "dbr = 'http://dbpedia.org/resource'"
   ]
  },
  {
   "cell_type": "code",
   "execution_count": null,
   "metadata": {},
   "outputs": [],
   "source": [
    "# !pip install pyspotlight \n",
    "import spotlight"
   ]
  },
  {
   "cell_type": "code",
   "execution_count": null,
   "metadata": {},
   "outputs": [],
   "source": [
    "def set_candidate(candidate_name, resource):\n",
    "    return {\n",
    "        'name': candidate_name,\n",
    "        'label': resource['label'],\n",
    "        'uri': dbr + resource['uri'],\n",
    "        'contextualScore': resource['contextualScore'],\n",
    "        'finalScore': resource['finalScore'],\n",
    "        'categories': resource['types']\n",
    "    }"
   ]
  },
  {
   "cell_type": "code",
   "execution_count": null,
   "metadata": {},
   "outputs": [],
   "source": [
    "def get_candidates(text, filters, confidence = .4, support = 20) :\n",
    "    try:\n",
    "        spotlight_uri = 'https://api.dbpedia-spotlight.org/en'\n",
    "        candidates = spotlight.candidates(f'{spotlight_uri}/candidates', text, confidence=confidence, support=support, filters=filters)\n",
    "        list_candidates = []\n",
    "        for candidate in candidates:\n",
    "            if type(candidate['resource']).__name__ == 'list':\n",
    "                for resource in candidate['resource']:\n",
    "                    list_candidates.append(set_candidate(candidate['name'], resource))\n",
    "            else:\n",
    "                list_candidates.append"
   ]
  }
 ],
 "metadata": {
  "kernelspec": {
   "display_name": "Python 3.9.8 64-bit",
   "language": "python",
   "name": "python3"
  },
  "language_info": {
   "codemirror_mode": {
    "name": "ipython",
    "version": 3
   },
   "file_extension": ".py",
   "mimetype": "text/x-python",
   "name": "python",
   "nbconvert_exporter": "python",
   "pygments_lexer": "ipython3",
   "version": "3.9.8"
  },
  "orig_nbformat": 4,
  "vscode": {
   "interpreter": {
    "hash": "aee8b7b246df8f9039afb4144a1f6fd8d2ca17a180786b69acc140d282b71a49"
   }
  }
 },
 "nbformat": 4,
 "nbformat_minor": 2
}
