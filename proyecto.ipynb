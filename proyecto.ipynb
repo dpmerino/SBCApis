{
 "cells": [
  {
   "cell_type": "code",
   "execution_count": 2,
   "metadata": {},
   "outputs": [],
   "source": [
    "from rdflib import Graph\n",
    "from rdflib import URIRef, BNode, Literal, RDF, RDFS\n",
    "import json\n",
    "import re"
   ]
  },
  {
   "cell_type": "code",
   "execution_count": 3,
   "metadata": {},
   "outputs": [],
   "source": [
    "from rdflib import Namespace\n",
    "# prefix for my data\n",
    "strprefix = \"http://example.org/destination/\"\n",
    "data = Namespace(strprefix) \n",
    "schema = Namespace('https://schema.org/')\n",
    "weat = Namespace('https://bimerr.iot.linkeddata.es/def/weather/')"
   ]
  },
  {
   "cell_type": "code",
   "execution_count": 4,
   "metadata": {},
   "outputs": [
    {
     "name": "stdout",
     "output_type": "stream",
     "text": [
      "{'term': 'loja,ecuador', 'suggestions': [{'group': 'CITY_GROUP', 'entities': [{'geoId': '739209075957641216', 'destinationId': '739209075957641216', 'landmarkCityDestinationId': None, 'type': 'CITY', 'redirectPage': 'DEFAULT_PAGE', 'latitude': -3.6394344211967353, 'longitude': -79.16831395316717, 'searchDetail': None, 'caption': 'Urdaneta, Loja Province, Ecuador', 'name': 'Urdaneta'}, {'geoId': '553248635973463947', 'destinationId': '11403341', 'landmarkCityDestinationId': None, 'type': 'CITY', 'redirectPage': 'DEFAULT_PAGE', 'latitude': -4.362287242855844, 'longitude': -80.25714249772747, 'searchDetail': None, 'caption': 'Zapotillo, Zapotillo, Loja Province, Ecuador', 'name': 'Zapotillo'}, {'geoId': '739208770310778880', 'destinationId': '739208770310778880', 'landmarkCityDestinationId': None, 'type': 'CITY', 'redirectPage': 'DEFAULT_PAGE', 'latitude': -3.7536272587413535, 'longitude': -79.37310779298699, 'searchDetail': None, 'caption': 'Gualel, Loja Province, Ecuador', 'name': 'Gualel'}, {'geoId': '6141628', 'destinationId': '430835', 'landmarkCityDestinationId': None, 'type': 'CITY', 'redirectPage': 'DEFAULT_PAGE', 'latitude': -4.279782518845229, 'longitude': -79.22828827501147, 'searchDetail': None, 'caption': 'Vilcabamba, Loja Province, Ecuador', 'name': 'Vilcabamba'}, {'geoId': '553248635973466085', 'destinationId': '11399014', 'landmarkCityDestinationId': None, 'type': 'CITY', 'redirectPage': 'DEFAULT_PAGE', 'latitude': -4.6543353997929895, 'longitude': -79.4439252024845, 'searchDetail': None, 'caption': 'Jimbura, Loja Province, Ecuador', 'name': 'Jimbura'}, {'geoId': '739209559055679488', 'destinationId': '739209559055679488', 'landmarkCityDestinationId': None, 'type': 'CITY', 'redirectPage': 'DEFAULT_PAGE', 'latitude': -3.492462417354487, 'longitude': -79.32495698683137, 'searchDetail': None, 'caption': 'Lluzhapa, Loja Province, Ecuador', 'name': 'Lluzhapa'}, {'geoId': '739208910594658304', 'destinationId': '739208910594658304', 'landmarkCityDestinationId': None, 'type': 'CITY', 'redirectPage': 'DEFAULT_PAGE', 'latitude': -3.5291942265345875, 'longitude': -79.42642033242456, 'searchDetail': None, 'caption': 'Manu, Loja Province, Ecuador', 'name': 'Manu'}]}, {'group': 'HOTEL_GROUP', 'entities': []}, {'group': 'LANDMARK_GROUP', 'entities': [{'geoId': '6266178', 'destinationId': '1769968', 'landmarkCityDestinationId': '1746599', 'type': 'LANDMARK', 'redirectPage': 'DEFAULT_PAGE', 'latitude': -3.99648, 'longitude': -79.20131, 'searchDetail': None, 'caption': 'Loja Cathedral, Loja, Loja Province, Ecuador', 'name': 'Loja Cathedral'}, {'geoId': '553248621532375146', 'destinationId': '10518677', 'landmarkCityDestinationId': '1746599', 'type': 'LANDMARK', 'redirectPage': 'DEFAULT_PAGE', 'latitude': -3.9981, 'longitude': -79.201163, 'searchDetail': None, 'caption': 'Loja Music Museum, Loja, Loja Province, Ecuador', 'name': 'Loja Music Museum'}, {'geoId': '553248621563843915', 'destinationId': '10450174', 'landmarkCityDestinationId': '427461', 'type': 'LANDMARK', 'redirectPage': 'DEFAULT_PAGE', 'latitude': -3.632289, 'longitude': -79.221056, 'searchDetail': None, 'caption': 'Waterfall of Sininkapak, Saraguro, Loja Province, Ecuador', 'name': 'Waterfall of Sininkapak'}, {'geoId': '553248621532375140', 'destinationId': '10518672', 'landmarkCityDestinationId': '1746599', 'type': 'LANDMARK', 'redirectPage': 'DEFAULT_PAGE', 'latitude': -3.9994, 'longitude': -79.203, 'searchDetail': None, 'caption': 'Parque Universitario La Argelia, Loja, Loja Province, Ecuador', 'name': 'Parque Universitario La Argelia'}, {'geoId': '6287406', 'destinationId': '1780809', 'landmarkCityDestinationId': '430835', 'type': 'LANDMARK', 'redirectPage': 'DEFAULT_PAGE', 'latitude': -4.262117, 'longitude': -79.222736, 'searchDetail': None, 'caption': 'Vilcabamba Church, Vilcabamba, Loja Province, Ecuador', 'name': 'Vilcabamba Church'}, {'geoId': '6266170', 'destinationId': '1769967', 'landmarkCityDestinationId': '1746599', 'type': 'LANDMARK', 'redirectPage': 'DEFAULT_PAGE', 'latitude': -3.989522, 'longitude': -79.204251, 'searchDetail': None, 'caption': 'Loja City Gates, Loja, Loja Province, Ecuador', 'name': 'Loja City Gates'}, {'geoId': '553248621563843914', 'destinationId': '10450127', 'landmarkCityDestinationId': '427461', 'type': 'LANDMARK', 'redirectPage': 'DEFAULT_PAGE', 'latitude': -3.62201, 'longitude': -79.239702, 'searchDetail': None, 'caption': 'Saraguro Market, Saraguro, Loja Province, Ecuador', 'name': 'Saraguro Market'}]}, {'group': 'TRANSPORT_GROUP', 'entities': [{'geoId': '6029735', 'destinationId': '1666240', 'landmarkCityDestinationId': None, 'type': 'AIRPORT', 'redirectPage': 'DEFAULT_PAGE', 'latitude': -3.995892, 'longitude': -79.371925, 'searchDetail': None, 'caption': 'Loja, Ecuador (LOH-Camilo Ponce Enriquez)', 'name': 'Loja (LOH-Camilo Ponce Enriquez)'}]}], 'geocodeFallback': False}\n"
     ]
    }
   ],
   "source": [
    "\n",
    "ruta = 'Data/loja.json'\n",
    "obj = json.load(open(ruta))\n",
    "del obj['moresuggestions']\n",
    "del obj['autoSuggestInstance']\n",
    "del obj['trackingID']\n",
    "del obj['misspellingfallback']\n",
    "print(obj)"
   ]
  },
  {
   "cell_type": "code",
   "execution_count": 5,
   "metadata": {},
   "outputs": [],
   "source": [
    "g = Graph()"
   ]
  },
  {
   "cell_type": "code",
   "execution_count": 7,
   "metadata": {},
   "outputs": [
    {
     "name": "stdout",
     "output_type": "stream",
     "text": [
      "[' Ecuador', ' Ecuador', ' Ecuador', ' Ecuador', ' Ecuador', ' Ecuador', ' Ecuador']\n",
      "[' Loja Province', ' Loja Province', ' Loja Province', ' Loja Province', ' Loja Province', ' Loja Province', ' Loja Province']\n",
      "[' Loja', ' Loja', ' Saraguro', ' Loja', ' Vilcabamba', ' Loja', ' Saraguro']\n"
     ]
    }
   ],
   "source": [
    "busqueda = obj['term']\n",
    "# Grupo de ciudades\n",
    "cityLats = []\n",
    "cityLons = []\n",
    "cityNames = []\n",
    "cityTypes = []\n",
    "cityStates = []\n",
    "cityCountries = []\n",
    "# Grupo de lugares de interés\n",
    "landmarkLats = []\n",
    "landmarkLons = []\n",
    "landmarkNames = []\n",
    "landmarkTypes = []\n",
    "landmarkCity = []\n",
    "landmarkStates = []\n",
    "landmarkCountry = []\n",
    "# Grupo de hoteles\n",
    "hotelLats = []\n",
    "hotelLons = []\n",
    "hotelNames = []\n",
    "hotelTypes = []\n",
    "hotelCity = []\n",
    "hotelStates = []\n",
    "hotelCountry = []\n",
    "\n",
    "for suggestion in obj['suggestions']:\n",
    "    if suggestion['group'] == 'CITY_GROUP':\n",
    "        for entitie in suggestion['entities']:\n",
    "            cityLats.append(entitie['latitude'])    \n",
    "            cityLons.append(entitie['longitude'])\n",
    "            cityNames.append(entitie['name'])\n",
    "            cityTypes.append(entitie['type'])\n",
    "            location = re.split(',|,|,|,|,',entitie['caption'])\n",
    "            cityStates.append(location[-2])\n",
    "            cityCountries.append(location[-1])\n",
    "    if suggestion['group'] == 'LANDMARK_GROUP':\n",
    "        for entitie in suggestion['entities']:\n",
    "            landmarkLats.append(entitie['latitude'])\n",
    "            landmarkLons.append(entitie['longitude'])\n",
    "            landmarkNames.append(entitie['name'])\n",
    "            landmarkTypes.append(entitie['type'])\n",
    "            location = re.split(',|,|,|,|,',entitie['caption'])\n",
    "            landmarkCity.append(location[-3])\n",
    "            landmarkStates.append(location[-2])\n",
    "            landmarkCountry.append(location[-1])\n",
    "    if suggestion['group'] == 'HOTEL_GROUP':\n",
    "        for entitie in suggestion['entities']:\n",
    "            hotelLats.append(entitie['latitude'])\n",
    "            hotelLons.append(entitie['longitude'])\n",
    "            hotelNames.append(entitie['name'])\n",
    "            hotelTypes.append(entitie['type'])\n",
    "            location = re.split(',|,|,|,|,',entitie['caption'])\n",
    "            hotelCity.append(location[-3])\n",
    "            hotelStates.append(location[-2])\n",
    "            hotelCountry.append(location[-1])\n",
    "\n",
    "print(landmarkCountry)\n",
    "print(landmarkStates)\n",
    "print(landmarkCity)"
   ]
  },
  {
   "cell_type": "code",
   "execution_count": 8,
   "metadata": {},
   "outputs": [
    {
     "name": "stdout",
     "output_type": "stream",
     "text": [
      "Ciudades\n",
      "[{'coord': {'lon': -79.1683, 'lat': -3.6394}, 'weather': [{'id': 500, 'main': 'Rain', 'description': 'light rain', 'icon': '10d'}], 'base': 'stations', 'main': {'temp': 289.62, 'feels_like': 288.97, 'temp_min': 289.62, 'temp_max': 289.62, 'pressure': 1014, 'humidity': 63, 'sea_level': 1014, 'grnd_level': 743}, 'visibility': 10000, 'wind': {'speed': 2.51, 'deg': 110, 'gust': 3.47}, 'rain': {'1h': 0.43}, 'clouds': {'all': 85}, 'dt': 1654366065, 'sys': {'country': 'EC', 'sunrise': 1654341455, 'sunset': 1654384365}, 'timezone': -18000, 'id': 3651245, 'name': 'Saraguro', 'cod': 200}, {'coord': {'lon': -80.2571, 'lat': -4.3623}, 'weather': [{'id': 803, 'main': 'Clouds', 'description': 'broken clouds', 'icon': '04d'}], 'base': 'stations', 'main': {'temp': 303.69, 'feels_like': 303.35, 'temp_min': 303.69, 'temp_max': 303.69, 'pressure': 1011, 'humidity': 39, 'sea_level': 1011, 'grnd_level': 978}, 'visibility': 10000, 'wind': {'speed': 3.44, 'deg': 214, 'gust': 3.11}, 'clouds': {'all': 70}, 'dt': 1654366066, 'sys': {'country': 'PE', 'sunrise': 1654341789, 'sunset': 1654384554}, 'timezone': -18000, 'id': 3695552, 'name': 'Las Lomas', 'cod': 200}, {'coord': {'lon': -79.3731, 'lat': -3.7536}, 'weather': [{'id': 500, 'main': 'Rain', 'description': 'light rain', 'icon': '10d'}], 'base': 'stations', 'main': {'temp': 288.75, 'feels_like': 288.22, 'temp_min': 288.75, 'temp_max': 288.75, 'pressure': 1014, 'humidity': 71, 'sea_level': 1014, 'grnd_level': 749}, 'visibility': 10000, 'wind': {'speed': 0.74, 'deg': 168, 'gust': 2.93}, 'rain': {'1h': 0.87}, 'clouds': {'all': 87}, 'dt': 1654366067, 'sys': {'country': 'EC', 'sunrise': 1654341516, 'sunset': 1654384402}, 'timezone': -18000, 'id': 3651546, 'name': 'San Pedro de la Bendita', 'cod': 200}, {'coord': {'lon': -79.2283, 'lat': -4.2798}, 'weather': [{'id': 500, 'main': 'Rain', 'description': 'light rain', 'icon': '10d'}], 'base': 'stations', 'main': {'temp': 295.28, 'feels_like': 295.32, 'temp_min': 295.28, 'temp_max': 295.28, 'pressure': 1014, 'humidity': 68, 'sea_level': 1014, 'grnd_level': 835}, 'visibility': 10000, 'wind': {'speed': 1.97, 'deg': 130, 'gust': 2.85}, 'rain': {'1h': 0.58}, 'clouds': {'all': 83}, 'dt': 1654366068, 'sys': {'country': 'EC', 'sunrise': 1654341533, 'sunset': 1654384315}, 'timezone': -18000, 'id': 3650199, 'name': 'Vilcabamba', 'cod': 200}, {'coord': {'lon': -79.4439, 'lat': -4.6543}, 'weather': [{'id': 500, 'main': 'Rain', 'description': 'light rain', 'icon': '10d'}], 'base': 'stations', 'main': {'temp': 289.49, 'feels_like': 289.01, 'temp_min': 289.49, 'temp_max': 289.49, 'pressure': 1014, 'humidity': 70, 'sea_level': 1014, 'grnd_level': 751}, 'visibility': 10000, 'wind': {'speed': 0.87, 'deg': 40, 'gust': 2.42}, 'rain': {'1h': 0.78}, 'clouds': {'all': 78}, 'dt': 1654366068, 'sys': {'country': 'PE', 'sunrise': 1654341622, 'sunset': 1654384330}, 'timezone': -18000, 'id': 3699502, 'name': 'Ayabaca', 'cod': 200}, {'coord': {'lon': -79.325, 'lat': -3.4925}, 'weather': [{'id': 500, 'main': 'Rain', 'description': 'light rain', 'icon': '10d'}], 'base': 'stations', 'main': {'temp': 292.64, 'feels_like': 292.26, 'temp_min': 292.64, 'temp_max': 292.64, 'pressure': 1013, 'humidity': 62, 'sea_level': 1013, 'grnd_level': 780}, 'visibility': 10000, 'wind': {'speed': 1.25, 'deg': 134, 'gust': 3.16}, 'rain': {'1h': 0.67}, 'clouds': {'all': 88}, 'dt': 1654366069, 'sys': {'country': 'EC', 'sunrise': 1654341478, 'sunset': 1654384417}, 'timezone': -18000, 'id': 3651245, 'name': 'Saraguro', 'cod': 200}, {'coord': {'lon': -79.4264, 'lat': -3.5292}, 'weather': [{'id': 501, 'main': 'Rain', 'description': 'moderate rain', 'icon': '10d'}], 'base': 'stations', 'main': {'temp': 284.6, 'feels_like': 283.68, 'temp_min': 284.6, 'temp_max': 284.6, 'pressure': 1014, 'humidity': 72, 'sea_level': 1014, 'grnd_level': 688}, 'visibility': 9692, 'wind': {'speed': 1.19, 'deg': 246, 'gust': 2.7}, 'rain': {'1h': 1.01}, 'clouds': {'all': 91}, 'dt': 1654366070, 'sys': {'country': 'EC', 'sunrise': 1654341506, 'sunset': 1654384437}, 'timezone': -18000, 'id': 3651245, 'name': 'Saraguro', 'cod': 200}]\n",
      "Lugares\n",
      "[{'coord': {'lon': -79.2013, 'lat': -3.9965}, 'weather': [{'id': 500, 'main': 'Rain', 'description': 'light rain', 'icon': '10d'}], 'base': 'stations', 'main': {'temp': 294.55, 'feels_like': 294.08, 'temp_min': 294.55, 'temp_max': 294.55, 'pressure': 1013, 'humidity': 51, 'sea_level': 1013, 'grnd_level': 799}, 'visibility': 10000, 'wind': {'speed': 2.42, 'deg': 95, 'gust': 4.07}, 'rain': {'1h': 0.18}, 'clouds': {'all': 95}, 'dt': 1654366071, 'sys': {'country': 'EC', 'sunrise': 1654341499, 'sunset': 1654384337}, 'timezone': -18000, 'id': 3654667, 'name': 'Loja', 'cod': 200}, {'coord': {'lon': -79.2013, 'lat': -3.9965}, 'weather': [{'id': 500, 'main': 'Rain', 'description': 'light rain', 'icon': '10d'}], 'base': 'stations', 'main': {'temp': 294.55, 'feels_like': 294.08, 'temp_min': 294.55, 'temp_max': 294.55, 'pressure': 1013, 'humidity': 51, 'sea_level': 1013, 'grnd_level': 799}, 'visibility': 10000, 'wind': {'speed': 2.42, 'deg': 95, 'gust': 4.07}, 'rain': {'1h': 0.18}, 'clouds': {'all': 95}, 'dt': 1654366071, 'sys': {'country': 'EC', 'sunrise': 1654341499, 'sunset': 1654384337}, 'timezone': -18000, 'id': 3654667, 'name': 'Loja', 'cod': 200}, {'coord': {'lon': -79.2211, 'lat': -3.6323}, 'weather': [{'id': 500, 'main': 'Rain', 'description': 'light rain', 'icon': '10d'}], 'base': 'stations', 'main': {'temp': 290.69, 'feels_like': 290.12, 'temp_min': 290.69, 'temp_max': 290.69, 'pressure': 1014, 'humidity': 62, 'sea_level': 1014, 'grnd_level': 758}, 'visibility': 10000, 'wind': {'speed': 2.8, 'deg': 113, 'gust': 3.71}, 'rain': {'1h': 0.47}, 'clouds': {'all': 89}, 'dt': 1654366072, 'sys': {'country': 'EC', 'sunrise': 1654341467, 'sunset': 1654384378}, 'timezone': -18000, 'id': 3651245, 'name': 'Saraguro', 'cod': 200}, {'coord': {'lon': -79.2013, 'lat': -3.9965}, 'weather': [{'id': 500, 'main': 'Rain', 'description': 'light rain', 'icon': '10d'}], 'base': 'stations', 'main': {'temp': 294.55, 'feels_like': 294.08, 'temp_min': 294.55, 'temp_max': 294.55, 'pressure': 1013, 'humidity': 51, 'sea_level': 1013, 'grnd_level': 799}, 'visibility': 10000, 'wind': {'speed': 2.42, 'deg': 95, 'gust': 4.07}, 'rain': {'1h': 0.18}, 'clouds': {'all': 95}, 'dt': 1654366071, 'sys': {'country': 'EC', 'sunrise': 1654341499, 'sunset': 1654384337}, 'timezone': -18000, 'id': 3654667, 'name': 'Loja', 'cod': 200}, {'coord': {'lon': -79.2227, 'lat': -4.2621}, 'weather': [{'id': 500, 'main': 'Rain', 'description': 'light rain', 'icon': '10d'}], 'base': 'stations', 'main': {'temp': 296.3, 'feels_like': 296.45, 'temp_min': 296.3, 'temp_max': 296.3, 'pressure': 1014, 'humidity': 68, 'sea_level': 1014, 'grnd_level': 850}, 'visibility': 10000, 'wind': {'speed': 1.94, 'deg': 131, 'gust': 2.83}, 'rain': {'1h': 0.58}, 'clouds': {'all': 84}, 'dt': 1654366074, 'sys': {'country': 'EC', 'sunrise': 1654341530, 'sunset': 1654384316}, 'timezone': -18000, 'id': 3650199, 'name': 'Vilcabamba', 'cod': 200}, {'coord': {'lon': -79.2043, 'lat': -3.9895}, 'weather': [{'id': 500, 'main': 'Rain', 'description': 'light rain', 'icon': '10d'}], 'base': 'stations', 'main': {'temp': 295.44, 'feels_like': 295, 'temp_min': 295.44, 'temp_max': 295.44, 'pressure': 1012, 'humidity': 49, 'sea_level': 1012, 'grnd_level': 800}, 'visibility': 10000, 'wind': {'speed': 1.68, 'deg': 104, 'gust': 3.64}, 'rain': {'1h': 0.13}, 'clouds': {'all': 90}, 'dt': 1654366075, 'sys': {'country': 'EC', 'sunrise': 1654341499, 'sunset': 1654384338}, 'timezone': -18000, 'id': 3654667, 'name': 'Loja', 'cod': 200}, {'coord': {'lon': -79.2397, 'lat': -3.622}, 'weather': [{'id': 500, 'main': 'Rain', 'description': 'light rain', 'icon': '10d'}], 'base': 'stations', 'main': {'temp': 291.21, 'feels_like': 290.66, 'temp_min': 291.21, 'temp_max': 291.21, 'pressure': 1014, 'humidity': 61, 'sea_level': 1014, 'grnd_level': 762}, 'visibility': 10000, 'wind': {'speed': 2.79, 'deg': 113, 'gust': 3.73}, 'rain': {'1h': 0.47}, 'clouds': {'all': 88}, 'dt': 1654366076, 'sys': {'country': 'EC', 'sunrise': 1654341471, 'sunset': 1654384383}, 'timezone': -18000, 'id': 3651245, 'name': 'Saraguro', 'cod': 200}]\n",
      "Hoteles\n",
      "[]\n"
     ]
    }
   ],
   "source": [
    "# import urllib library\n",
    "from urllib.request import urlopen\n",
    "\n",
    "#urlBase = f\"https://api.openweathermap.org/data/2.5/weather?lat={lat}&lon={lon}&appid=8ff197fe8c643a9c8c5bc573eef66675\"\n",
    "urlsCity = []\n",
    "urlsLandmark = []\n",
    "urlsHotel = []\n",
    "\n",
    "responsesCity = []\n",
    "responsesLandmark = []\n",
    "responsesHotel = []\n",
    "\n",
    "cityJson = []\n",
    "landmarkJson = []\n",
    "hotelJson = []\n",
    "for i in range (len(cityLats)):\n",
    "    urlsCity.append(f\"https://api.openweathermap.org/data/2.5/weather?lat={cityLats[i]}&lon={cityLons[i]}&appid=8ff197fe8c643a9c8c5bc573eef66675\")    \n",
    "for url in urlsCity:\n",
    "    responsesCity.append(urlopen(url))\n",
    "for response in responsesCity:\n",
    "    cityJson.append(json.loads(response.read()))\n",
    "\n",
    "for i in range(len(landmarkLats)):\n",
    "    urlsLandmark.append(f\"https://api.openweathermap.org/data/2.5/weather?lat={landmarkLats[i]}&lon={landmarkLons[i]}&appid=8ff197fe8c643a9c8c5bc573eef66675\")    \n",
    "for url in urlsLandmark:\n",
    "    responsesLandmark.append(urlopen(url))\n",
    "for response in responsesLandmark:\n",
    "    landmarkJson.append(json.loads(response.read()))\n",
    "\n",
    "for i in range(len(hotelLats)):\n",
    "    urlsHotel.append(f\"https://api.openweathermap.org/data/2.5/weather?lat={hotelLats[i]}&lon={hotelLons[i]}&appid=8ff197fe8c643a9c8c5bc573eef66675\")    \n",
    "for url in urlsHotel:\n",
    "    responsesHotel.append(urlopen(url))\n",
    "for response in responsesHotel:\n",
    "    hotelJson.append(json.loads(response.read()))\n",
    "#response = urlopen(url)\n",
    "# cityJson = json.loads(response.read())\n",
    "print(\"Ciudades\")\n",
    "print(cityJson)\n",
    "print(\"Lugares\")\n",
    "print(landmarkJson)\n",
    "print(\"Hoteles\")\n",
    "print(hotelJson)"
   ]
  },
  {
   "cell_type": "code",
   "execution_count": 14,
   "metadata": {},
   "outputs": [
    {
     "name": "stdout",
     "output_type": "stream",
     "text": [
      "http://example.org/destination/CITY/Urdaneta\n",
      "http://example.org/destination/CITY/Zapotillo\n",
      "http://example.org/destination/CITY/Gualel\n",
      "http://example.org/destination/CITY/Vilcabamba\n",
      "http://example.org/destination/CITY/Jimbura\n",
      "http://example.org/destination/CITY/Lluzhapa\n",
      "http://example.org/destination/CITY/Manu\n",
      "http://example.org/destination/LANDMARK/LojaCathedral\n",
      "http://example.org/destination/LANDMARK/LojaMusicMuseum\n",
      "http://example.org/destination/LANDMARK/WaterfallofSininkapak\n",
      "http://example.org/destination/LANDMARK/ParqueUniversitarioLaArgelia\n",
      "http://example.org/destination/LANDMARK/VilcabambaChurch\n",
      "http://example.org/destination/LANDMARK/LojaCityGates\n",
      "http://example.org/destination/LANDMARK/SaraguroMarket\n"
     ]
    }
   ],
   "source": [
    "from unicodedata import normalize\n",
    "\n",
    "#A partir del nombre se fijará la URI, por tanto, se necesita formatear el texto para quitar tildes:\n",
    "a,b = 'áéíóúü','aeiouu'\n",
    "trans = str.maketrans(a,b)\n",
    "\n",
    "# Recorrer la data e ir creando los datos:\n",
    "for (cityName,cityType, cityLat, cityLon, cityState, cityCountry) in zip (cityNames, cityTypes, cityLats, cityLons, cityStates, cityCountries):\n",
    "    datosURI = URIRef(strprefix + cityType.replace(' ', '').translate(trans) + ('/') + cityName.replace(' ', '').translate(trans))\n",
    "    typeDestination = Literal(cityType)\n",
    "    nameDestination = Literal(cityName)\n",
    "    cityLatitude = Literal(cityLat)\n",
    "    cityLongitude = Literal(cityLon)\n",
    "\n",
    "    provinceURI = URIRef(strprefix + cityState.replace(' ','').translate(trans)) # el uso de destino en el prefix queda en duda\n",
    "    province = Literal(cityState)\n",
    "    g.add((provinceURI, RDF.type, schema.State))\n",
    "    g.add((provinceURI, RDFS.label, province))\n",
    "\n",
    "    countryURI = URIRef(strprefix + cityCountry.replace(' ','').translate(trans))\n",
    "    country = Literal(cityCountry)\n",
    "    g.add((countryURI, RDF.type, schema.State))\n",
    "    g.add((countryURI, RDFS.label, country))\n",
    "\n",
    "    \n",
    "    g.add((datosURI, RDF.type, schema.TouristDestination))\n",
    "    g.add((datosURI, schema.name, nameDestination))\n",
    "    g.add((datosURI, schema.latitude, cityLatitude)) \n",
    "    g.add((datosURI, schema.longitude, cityLongitude))\n",
    "    g.add((datosURI, schema.State, provinceURI))\n",
    "    g.add((datosURI, schema.Country, countryURI))\n",
    "\n",
    "\n",
    "    print(datosURI)\n",
    "\n",
    "for (hotelName,hotelType) in zip (hotelNames, hotelTypes):\n",
    "    datosURI = URIRef(strprefix + hotelType.replace(' ', '').translate(trans) + ('/') + hotelName.replace(' ', '').translate(trans))\n",
    "    typeDestination = Literal(hotelType)\n",
    "    nameDestination = Literal(hotelName)\n",
    "    print(datosURI)\n",
    "\n",
    "for (landmarkName,landmarkType) in zip (landmarkNames, landmarkTypes):\n",
    "    datosURI = URIRef(strprefix + landmarkType.replace(' ', '').translate(trans) + ('/') +landmarkName.replace(' ', '').translate(trans))\n",
    "    typeDestination = Literal(landmarkType)\n",
    "    nameDestination = Literal(landmarkName)\n",
    "#for cityName in cityNames:\n",
    " #   datosURI = URIRef(strprefix + cityName.replace(' ', '').translate(trans))\n",
    "  #  nameDestination = Literal(cityName)\n",
    "    # print(round(cityLat[i],4))\n",
    "    # print(data_json[i]['coord']['lat'])\n",
    "    #if(round(cityLat[i],4) == data_json[i]['coord']['lat'] and (round(cityLon[i],4) == data_json[i]['coord']['lon'])):\n",
    "    #    print(cityNames[i])\n",
    "    #    print(data_json[i]['main']['temp'])\n",
    "    #    print(\"...\")\n",
    "    print(datosURI)"
   ]
  },
  {
   "cell_type": "code",
   "execution_count": 15,
   "metadata": {},
   "outputs": [
    {
     "data": {
      "text/plain": [
       "<Graph identifier=N1658a665c7cf4534b19817a14e430fc6 (<class 'rdflib.graph.Graph'>)>"
      ]
     },
     "execution_count": 15,
     "metadata": {},
     "output_type": "execute_result"
    }
   ],
   "source": [
    "g.serialize(destination=\"datosRDF.ttl\")"
   ]
  },
  {
   "cell_type": "code",
   "execution_count": 107,
   "metadata": {},
   "outputs": [
    {
     "name": "stdout",
     "output_type": "stream",
     "text": [
      "<class 'dict'>\n"
     ]
    }
   ],
   "source": [
    "\n"
   ]
  }
 ],
 "metadata": {
  "interpreter": {
   "hash": "34abf383d74fb4a0aef96529b01619ebbdc393921705edd13d4d481583cfdfc2"
  },
  "kernelspec": {
   "display_name": "Python 3.8.5 64-bit",
   "language": "python",
   "name": "python3"
  },
  "language_info": {
   "codemirror_mode": {
    "name": "ipython",
    "version": 3
   },
   "file_extension": ".py",
   "mimetype": "text/x-python",
   "name": "python",
   "nbconvert_exporter": "python",
   "pygments_lexer": "ipython3",
   "version": "3.8.5"
  },
  "orig_nbformat": 4
 },
 "nbformat": 4,
 "nbformat_minor": 2
}
