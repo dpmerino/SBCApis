{
 "cells": [
  {
   "cell_type": "code",
   "execution_count": 137,
   "metadata": {},
   "outputs": [
    {
     "name": "stdout",
     "output_type": "stream",
     "text": [
      "           term  moresuggestions  autoSuggestInstance  \\\n",
      "0  loja,ecuador               10                  NaN   \n",
      "1  loja,ecuador               10                  NaN   \n",
      "2  loja,ecuador               10                  NaN   \n",
      "3  loja,ecuador               10                  NaN   \n",
      "\n",
      "                         trackingID  misspellingfallback  \\\n",
      "0  62e7bbc5064745de83697743616c154e                False   \n",
      "1  62e7bbc5064745de83697743616c154e                False   \n",
      "2  62e7bbc5064745de83697743616c154e                False   \n",
      "3  62e7bbc5064745de83697743616c154e                False   \n",
      "\n",
      "                                         suggestions  geocodeFallback  \n",
      "0  {'group': 'CITY_GROUP', 'entities': [{'geoId':...            False  \n",
      "1           {'group': 'HOTEL_GROUP', 'entities': []}            False  \n",
      "2  {'group': 'LANDMARK_GROUP', 'entities': [{'geo...            False  \n",
      "3  {'group': 'TRANSPORT_GROUP', 'entities': [{'ge...            False  \n"
     ]
    }
   ],
   "source": [
    "\n",
    "import pandas as pd\n",
    "datos = pd.read_json('Data/loja.json')\n",
    "print(datos)"
   ]
  },
  {
   "cell_type": "code",
   "execution_count": 138,
   "metadata": {},
   "outputs": [],
   "source": [
    "datos.to_csv(r'Data_csv/loja_2.csv')"
   ]
  },
  {
   "cell_type": "code",
   "execution_count": 160,
   "metadata": {},
   "outputs": [
    {
     "name": "stdout",
     "output_type": "stream",
     "text": [
      "{'term': 'loja,ecuador', 'suggestions': [{'group': 'CITY_GROUP', 'entities': [{'geoId': '739209075957641216', 'destinationId': '739209075957641216', 'landmarkCityDestinationId': None, 'type': 'CITY', 'redirectPage': 'DEFAULT_PAGE', 'latitude': -3.6394344211967353, 'longitude': -79.16831395316717, 'searchDetail': None, 'caption': 'Urdaneta, Loja Province, Ecuador', 'name': 'Urdaneta'}, {'geoId': '553248635973463947', 'destinationId': '11403341', 'landmarkCityDestinationId': None, 'type': 'CITY', 'redirectPage': 'DEFAULT_PAGE', 'latitude': -4.362287242855844, 'longitude': -80.25714249772747, 'searchDetail': None, 'caption': 'Zapotillo, Zapotillo, Loja Province, Ecuador', 'name': 'Zapotillo'}, {'geoId': '739208770310778880', 'destinationId': '739208770310778880', 'landmarkCityDestinationId': None, 'type': 'CITY', 'redirectPage': 'DEFAULT_PAGE', 'latitude': -3.7536272587413535, 'longitude': -79.37310779298699, 'searchDetail': None, 'caption': 'Gualel, Loja Province, Ecuador', 'name': 'Gualel'}, {'geoId': '6141628', 'destinationId': '430835', 'landmarkCityDestinationId': None, 'type': 'CITY', 'redirectPage': 'DEFAULT_PAGE', 'latitude': -4.279782518845229, 'longitude': -79.22828827501147, 'searchDetail': None, 'caption': 'Vilcabamba, Loja Province, Ecuador', 'name': 'Vilcabamba'}, {'geoId': '553248635973466085', 'destinationId': '11399014', 'landmarkCityDestinationId': None, 'type': 'CITY', 'redirectPage': 'DEFAULT_PAGE', 'latitude': -4.6543353997929895, 'longitude': -79.4439252024845, 'searchDetail': None, 'caption': 'Jimbura, Loja Province, Ecuador', 'name': 'Jimbura'}, {'geoId': '739209559055679488', 'destinationId': '739209559055679488', 'landmarkCityDestinationId': None, 'type': 'CITY', 'redirectPage': 'DEFAULT_PAGE', 'latitude': -3.492462417354487, 'longitude': -79.32495698683137, 'searchDetail': None, 'caption': 'Lluzhapa, Loja Province, Ecuador', 'name': 'Lluzhapa'}, {'geoId': '739208910594658304', 'destinationId': '739208910594658304', 'landmarkCityDestinationId': None, 'type': 'CITY', 'redirectPage': 'DEFAULT_PAGE', 'latitude': -3.5291942265345875, 'longitude': -79.42642033242456, 'searchDetail': None, 'caption': 'Manu, Loja Province, Ecuador', 'name': 'Manu'}]}, {'group': 'HOTEL_GROUP', 'entities': []}, {'group': 'LANDMARK_GROUP', 'entities': [{'geoId': '6266178', 'destinationId': '1769968', 'landmarkCityDestinationId': '1746599', 'type': 'LANDMARK', 'redirectPage': 'DEFAULT_PAGE', 'latitude': -3.99648, 'longitude': -79.20131, 'searchDetail': None, 'caption': 'Loja Cathedral, Loja, Loja Province, Ecuador', 'name': 'Loja Cathedral'}, {'geoId': '553248621532375146', 'destinationId': '10518677', 'landmarkCityDestinationId': '1746599', 'type': 'LANDMARK', 'redirectPage': 'DEFAULT_PAGE', 'latitude': -3.9981, 'longitude': -79.201163, 'searchDetail': None, 'caption': 'Loja Music Museum, Loja, Loja Province, Ecuador', 'name': 'Loja Music Museum'}, {'geoId': '553248621563843915', 'destinationId': '10450174', 'landmarkCityDestinationId': '427461', 'type': 'LANDMARK', 'redirectPage': 'DEFAULT_PAGE', 'latitude': -3.632289, 'longitude': -79.221056, 'searchDetail': None, 'caption': 'Waterfall of Sininkapak, Saraguro, Loja Province, Ecuador', 'name': 'Waterfall of Sininkapak'}, {'geoId': '553248621532375140', 'destinationId': '10518672', 'landmarkCityDestinationId': '1746599', 'type': 'LANDMARK', 'redirectPage': 'DEFAULT_PAGE', 'latitude': -3.9994, 'longitude': -79.203, 'searchDetail': None, 'caption': 'Parque Universitario La Argelia, Loja, Loja Province, Ecuador', 'name': 'Parque Universitario La Argelia'}, {'geoId': '6287406', 'destinationId': '1780809', 'landmarkCityDestinationId': '430835', 'type': 'LANDMARK', 'redirectPage': 'DEFAULT_PAGE', 'latitude': -4.262117, 'longitude': -79.222736, 'searchDetail': None, 'caption': 'Vilcabamba Church, Vilcabamba, Loja Province, Ecuador', 'name': 'Vilcabamba Church'}, {'geoId': '6266170', 'destinationId': '1769967', 'landmarkCityDestinationId': '1746599', 'type': 'LANDMARK', 'redirectPage': 'DEFAULT_PAGE', 'latitude': -3.989522, 'longitude': -79.204251, 'searchDetail': None, 'caption': 'Loja City Gates, Loja, Loja Province, Ecuador', 'name': 'Loja City Gates'}, {'geoId': '553248621563843914', 'destinationId': '10450127', 'landmarkCityDestinationId': '427461', 'type': 'LANDMARK', 'redirectPage': 'DEFAULT_PAGE', 'latitude': -3.62201, 'longitude': -79.239702, 'searchDetail': None, 'caption': 'Saraguro Market, Saraguro, Loja Province, Ecuador', 'name': 'Saraguro Market'}]}, {'group': 'TRANSPORT_GROUP', 'entities': [{'geoId': '6029735', 'destinationId': '1666240', 'landmarkCityDestinationId': None, 'type': 'AIRPORT', 'redirectPage': 'DEFAULT_PAGE', 'latitude': -3.995892, 'longitude': -79.371925, 'searchDetail': None, 'caption': 'Loja, Ecuador (LOH-Camilo Ponce Enriquez)', 'name': 'Loja (LOH-Camilo Ponce Enriquez)'}]}], 'geocodeFallback': False}\n"
     ]
    }
   ],
   "source": [
    "import json\n",
    "ruta = 'Data/loja.json'\n",
    "obj = json.load(open(ruta))\n",
    "del obj['moresuggestions']\n",
    "del obj['autoSuggestInstance']\n",
    "del obj['trackingID']\n",
    "del obj['misspellingfallback']\n",
    "print(obj)"
   ]
  },
  {
   "cell_type": "code",
   "execution_count": 140,
   "metadata": {},
   "outputs": [],
   "source": [
    "# for i in range(len(obj)):\n",
    "#     if obj[\"suggestions\"][\"group\"] == \"TRANSPORT_GROUP\":\n",
    "#         obj.pop(i)\n",
    "#         break\n",
    "#     print(obj[i])\n",
    "#     print(obj[\"term\"])\n",
    "#     break\n",
    "busqueda = obj['term']\n",
    "# Grupo de ciudades\n",
    "cityLat = []\n",
    "cityLon = []\n",
    "cityNames = []\n",
    "# Grupo de lugares de interés\n",
    "landmarkLat = []\n",
    "landmarkLon = []\n",
    "landmarkNames = []\n",
    "# Grupo de hoteles\n",
    "hotelLat = []\n",
    "hotelLon = []\n",
    "hotelNames = []\n",
    "for suggestion in obj['suggestions']:\n",
    "    if suggestion['group'] == 'CITY_GROUP':\n",
    "        for entitie in suggestion['entities']:\n",
    "            cityLat.append(entitie['latitude'])    \n",
    "            cityLon.append(entitie['longitude'])\n",
    "            cityNames.append(entitie['name'])\n",
    "    if suggestion['group'] == 'LANDMARK_GROUP':\n",
    "        for entitie in suggestion['entities']:\n",
    "            landmarkLat.append(entitie['latitude'])\n",
    "            landmarkLon.append(entitie['longitude'])\n",
    "            landmarkNames.append(entitie['name'])\n",
    "    if suggestion['group'] == 'HOTEL_GROUP':\n",
    "        for entitie in suggestion['entities']:\n",
    "            hotelLat.append(entitie['latitude'])\n",
    "            hotelLon.append(entitie['longitude'])\n",
    "            hotelNames.append(entitie['name'])\n",
    "\n"
   ]
  },
  {
   "cell_type": "code",
   "execution_count": 141,
   "metadata": {},
   "outputs": [
    {
     "name": "stdout",
     "output_type": "stream",
     "text": [
      "[{'coord': {'lon': -79.1683, 'lat': -3.6394}, 'weather': [{'id': 500, 'main': 'Rain', 'description': 'light rain', 'icon': '10n'}], 'base': 'stations', 'main': {'temp': 283.03, 'feels_like': 283.03, 'temp_min': 283.03, 'temp_max': 283.03, 'pressure': 1018, 'humidity': 97, 'sea_level': 1018, 'grnd_level': 740}, 'visibility': 10000, 'wind': {'speed': 0.44, 'deg': 303, 'gust': 0.62}, 'rain': {'1h': 0.13}, 'clouds': {'all': 88}, 'dt': 1654225378, 'sys': {'country': 'EC', 'sunrise': 1654168632, 'sunset': 1654211549}, 'timezone': -18000, 'id': 3651245, 'name': 'Saraguro', 'cod': 200}, {'coord': {'lon': -80.2571, 'lat': -4.3623}, 'weather': [{'id': 804, 'main': 'Clouds', 'description': 'overcast clouds', 'icon': '04n'}], 'base': 'stations', 'main': {'temp': 294.23, 'feels_like': 293.96, 'temp_min': 294.23, 'temp_max': 294.23, 'pressure': 1015, 'humidity': 60, 'sea_level': 1015, 'grnd_level': 981}, 'visibility': 10000, 'wind': {'speed': 1.59, 'deg': 214, 'gust': 2.68}, 'clouds': {'all': 97}, 'dt': 1654225379, 'sys': {'country': 'PE', 'sunrise': 1654168964, 'sunset': 1654211739}, 'timezone': -18000, 'id': 3695552, 'name': 'Las Lomas', 'cod': 200}, {'coord': {'lon': -79.3731, 'lat': -3.7536}, 'weather': [{'id': 804, 'main': 'Clouds', 'description': 'overcast clouds', 'icon': '04n'}], 'base': 'stations', 'main': {'temp': 283.19, 'feels_like': 282.76, 'temp_min': 283.19, 'temp_max': 283.19, 'pressure': 1018, 'humidity': 96, 'sea_level': 1018, 'grnd_level': 747}, 'visibility': 10000, 'wind': {'speed': 0.15, 'deg': 109, 'gust': 0.37}, 'clouds': {'all': 91}, 'dt': 1654225380, 'sys': {'country': 'EC', 'sunrise': 1654168692, 'sunset': 1654211587}, 'timezone': -18000, 'id': 3651546, 'name': 'San Pedro de la Bendita', 'cod': 200}, {'coord': {'lon': -79.2283, 'lat': -4.2798}, 'weather': [{'id': 500, 'main': 'Rain', 'description': 'light rain', 'icon': '10n'}], 'base': 'stations', 'main': {'temp': 288.65, 'feels_like': 288.84, 'temp_min': 288.65, 'temp_max': 288.65, 'pressure': 1018, 'humidity': 99, 'sea_level': 1018, 'grnd_level': 835}, 'visibility': 2731, 'wind': {'speed': 0.54, 'deg': 242, 'gust': 0.86}, 'rain': {'1h': 0.11}, 'clouds': {'all': 77}, 'dt': 1654225380, 'sys': {'country': 'EC', 'sunrise': 1654168709, 'sunset': 1654211501}, 'timezone': -18000, 'id': 3650199, 'name': 'Vilcabamba', 'cod': 200}, {'coord': {'lon': -79.4439, 'lat': -4.6543}, 'weather': [{'id': 803, 'main': 'Clouds', 'description': 'broken clouds', 'icon': '04n'}], 'base': 'stations', 'main': {'temp': 282.09, 'feels_like': 282.09, 'temp_min': 282.09, 'temp_max': 282.09, 'pressure': 1018, 'humidity': 96, 'sea_level': 1018, 'grnd_level': 748}, 'visibility': 10000, 'wind': {'speed': 0.33, 'deg': 80, 'gust': 0.91}, 'clouds': {'all': 84}, 'dt': 1654225382, 'sys': {'country': 'PE', 'sunrise': 1654168798, 'sunset': 1654211516}, 'timezone': -18000, 'id': 3699502, 'name': 'Ayabaca', 'cod': 200}, {'coord': {'lon': -79.325, 'lat': -3.4925}, 'weather': [{'id': 500, 'main': 'Rain', 'description': 'light rain', 'icon': '10n'}], 'base': 'stations', 'main': {'temp': 285.57, 'feels_like': 285.4, 'temp_min': 285.57, 'temp_max': 285.57, 'pressure': 1018, 'humidity': 97, 'sea_level': 1018, 'grnd_level': 779}, 'visibility': 10000, 'wind': {'speed': 0.57, 'deg': 341, 'gust': 0.81}, 'rain': {'1h': 0.1}, 'clouds': {'all': 94}, 'dt': 1654225382, 'sys': {'country': 'EC', 'sunrise': 1654168655, 'sunset': 1654211601}, 'timezone': -18000, 'id': 3651245, 'name': 'Saraguro', 'cod': 200}, {'coord': {'lon': -79.4264, 'lat': -3.5292}, 'weather': [{'id': 804, 'main': 'Clouds', 'description': 'overcast clouds', 'icon': '04n'}], 'base': 'stations', 'main': {'temp': 278.56, 'feels_like': 278.56, 'temp_min': 278.56, 'temp_max': 278.56, 'pressure': 1018, 'humidity': 96, 'sea_level': 1018, 'grnd_level': 686}, 'visibility': 10000, 'wind': {'speed': 0.35, 'deg': 29, 'gust': 0.61}, 'clouds': {'all': 97}, 'dt': 1654225383, 'sys': {'country': 'EC', 'sunrise': 1654168683, 'sunset': 1654211622}, 'timezone': -18000, 'id': 3651245, 'name': 'Saraguro', 'cod': 200}]\n"
     ]
    }
   ],
   "source": [
    "\n",
    "# import urllib library\n",
    "from urllib.request import urlopen\n",
    "\n",
    "urlBase = f\"https://api.openweathermap.org/data/2.5/weather?lat={lat}&lon={lon}&appid=8ff197fe8c643a9c8c5bc573eef66675\"\n",
    "urls = []\n",
    "responses = []\n",
    "data_json = []\n",
    "for i in range (len(cityLat)):\n",
    "    urls.append(f\"https://api.openweathermap.org/data/2.5/weather?lat={cityLat[i]}&lon={cityLon[i]}&appid=8ff197fe8c643a9c8c5bc573eef66675\")\n",
    "    \n",
    "for url in urls:\n",
    "    responses.append(urlopen(url))\n",
    "for response in responses:\n",
    "    data_json.append(json.loads(response.read()))\n",
    "#response = urlopen(url)\n",
    "# data_json = json.loads(response.read())\n",
    "print(data_json)"
   ]
  },
  {
   "cell_type": "code",
   "execution_count": 142,
   "metadata": {},
   "outputs": [
    {
     "name": "stdout",
     "output_type": "stream",
     "text": [
      "['https://api.openweathermap.org/data/2.5/weather?lat=-3.6394344211967353&lon=-79.16831395316717&appid=8ff197fe8c643a9c8c5bc573eef66675', 'https://api.openweathermap.org/data/2.5/weather?lat=-4.362287242855844&lon=-80.25714249772747&appid=8ff197fe8c643a9c8c5bc573eef66675', 'https://api.openweathermap.org/data/2.5/weather?lat=-3.7536272587413535&lon=-79.37310779298699&appid=8ff197fe8c643a9c8c5bc573eef66675', 'https://api.openweathermap.org/data/2.5/weather?lat=-4.279782518845229&lon=-79.22828827501147&appid=8ff197fe8c643a9c8c5bc573eef66675', 'https://api.openweathermap.org/data/2.5/weather?lat=-4.6543353997929895&lon=-79.4439252024845&appid=8ff197fe8c643a9c8c5bc573eef66675', 'https://api.openweathermap.org/data/2.5/weather?lat=-3.492462417354487&lon=-79.32495698683137&appid=8ff197fe8c643a9c8c5bc573eef66675', 'https://api.openweathermap.org/data/2.5/weather?lat=-3.5291942265345875&lon=-79.42642033242456&appid=8ff197fe8c643a9c8c5bc573eef66675']\n"
     ]
    }
   ],
   "source": [
    "print(urls)"
   ]
  },
  {
   "cell_type": "code",
   "execution_count": 150,
   "metadata": {},
   "outputs": [
    {
     "name": "stdout",
     "output_type": "stream",
     "text": [
      "Urdaneta\n",
      "283.03\n",
      "...\n",
      "Zapotillo\n",
      "294.23\n",
      "...\n",
      "Gualel\n",
      "283.19\n",
      "...\n",
      "Vilcabamba\n",
      "288.65\n",
      "...\n",
      "Jimbura\n",
      "282.09\n",
      "...\n",
      "Lluzhapa\n",
      "285.57\n",
      "...\n",
      "Manu\n",
      "278.56\n",
      "...\n"
     ]
    }
   ],
   "source": [
    "#print(data_json[1])\n",
    "\n",
    "for i in range(len(cityLat)):\n",
    "    # print(round(cityLat[i],4))\n",
    "    # print(data_json[i]['coord']['lat'])\n",
    "    if(round(cityLat[i],4) == data_json[i]['coord']['lat'] and (round(cityLon[i],4) == data_json[i]['coord']['lon'])):\n",
    "        print(cityNames[i])\n",
    "        print(data_json[i]['main']['temp'])\n",
    "        print(\"...\")"
   ]
  },
  {
   "cell_type": "code",
   "execution_count": 158,
   "metadata": {},
   "outputs": [
    {
     "name": "stdout",
     "output_type": "stream",
     "text": [
      "Ayabaca\n"
     ]
    }
   ],
   "source": [
    "print(data_json[4]['name'])"
   ]
  },
  {
   "cell_type": "code",
   "execution_count": 107,
   "metadata": {},
   "outputs": [
    {
     "name": "stdout",
     "output_type": "stream",
     "text": [
      "<class 'dict'>\n"
     ]
    }
   ],
   "source": [
    "\n"
   ]
  }
 ],
 "metadata": {
  "interpreter": {
   "hash": "aee8b7b246df8f9039afb4144a1f6fd8d2ca17a180786b69acc140d282b71a49"
  },
  "kernelspec": {
   "display_name": "Python 3.9.8 64-bit",
   "language": "python",
   "name": "python3"
  },
  "language_info": {
   "codemirror_mode": {
    "name": "ipython",
    "version": 3
   },
   "file_extension": ".py",
   "mimetype": "text/x-python",
   "name": "python",
   "nbconvert_exporter": "python",
   "pygments_lexer": "ipython3",
   "version": "3.9.8"
  },
  "orig_nbformat": 4
 },
 "nbformat": 4,
 "nbformat_minor": 2
}
