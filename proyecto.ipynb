{
 "cells": [
  {
   "cell_type": "code",
   "execution_count": 2,
   "metadata": {},
   "outputs": [],
   "source": [
    "from rdflib import Graph\n",
    "from rdflib import URIRef, BNode, Literal, RDF, RDFS"
   ]
  },
  {
   "cell_type": "code",
   "execution_count": 4,
   "metadata": {},
   "outputs": [],
   "source": [
    "import json"
   ]
  },
  {
   "cell_type": "code",
   "execution_count": 6,
   "metadata": {},
   "outputs": [],
   "source": [
    "from rdflib import Namespace\n",
    "# prefix for my data\n",
    "strprefix = \"http://example.org/destination/\"\n",
    "data = Namespace(strprefix) \n",
    "schema = Namespace('https://schema.org/')\n",
    "weat = Namespace('https://bimerr.iot.linkeddata.es/def/weather')"
   ]
  },
  {
   "cell_type": "code",
   "execution_count": 13,
   "metadata": {},
   "outputs": [
    {
     "name": "stdout",
     "output_type": "stream",
     "text": [
      "{'term': 'loja,ecuador', 'suggestions': [{'group': 'CITY_GROUP', 'entities': [{'geoId': '739209075957641216', 'destinationId': '739209075957641216', 'landmarkCityDestinationId': None, 'type': 'CITY', 'redirectPage': 'DEFAULT_PAGE', 'latitude': -3.6394344211967353, 'longitude': -79.16831395316717, 'searchDetail': None, 'caption': 'Urdaneta, Loja Province, Ecuador', 'name': 'Urdaneta'}, {'geoId': '553248635973463947', 'destinationId': '11403341', 'landmarkCityDestinationId': None, 'type': 'CITY', 'redirectPage': 'DEFAULT_PAGE', 'latitude': -4.362287242855844, 'longitude': -80.25714249772747, 'searchDetail': None, 'caption': 'Zapotillo, Zapotillo, Loja Province, Ecuador', 'name': 'Zapotillo'}, {'geoId': '739208770310778880', 'destinationId': '739208770310778880', 'landmarkCityDestinationId': None, 'type': 'CITY', 'redirectPage': 'DEFAULT_PAGE', 'latitude': -3.7536272587413535, 'longitude': -79.37310779298699, 'searchDetail': None, 'caption': 'Gualel, Loja Province, Ecuador', 'name': 'Gualel'}, {'geoId': '6141628', 'destinationId': '430835', 'landmarkCityDestinationId': None, 'type': 'CITY', 'redirectPage': 'DEFAULT_PAGE', 'latitude': -4.279782518845229, 'longitude': -79.22828827501147, 'searchDetail': None, 'caption': 'Vilcabamba, Loja Province, Ecuador', 'name': 'Vilcabamba'}, {'geoId': '553248635973466085', 'destinationId': '11399014', 'landmarkCityDestinationId': None, 'type': 'CITY', 'redirectPage': 'DEFAULT_PAGE', 'latitude': -4.6543353997929895, 'longitude': -79.4439252024845, 'searchDetail': None, 'caption': 'Jimbura, Loja Province, Ecuador', 'name': 'Jimbura'}, {'geoId': '739209559055679488', 'destinationId': '739209559055679488', 'landmarkCityDestinationId': None, 'type': 'CITY', 'redirectPage': 'DEFAULT_PAGE', 'latitude': -3.492462417354487, 'longitude': -79.32495698683137, 'searchDetail': None, 'caption': 'Lluzhapa, Loja Province, Ecuador', 'name': 'Lluzhapa'}, {'geoId': '739208910594658304', 'destinationId': '739208910594658304', 'landmarkCityDestinationId': None, 'type': 'CITY', 'redirectPage': 'DEFAULT_PAGE', 'latitude': -3.5291942265345875, 'longitude': -79.42642033242456, 'searchDetail': None, 'caption': 'Manu, Loja Province, Ecuador', 'name': 'Manu'}]}, {'group': 'HOTEL_GROUP', 'entities': []}, {'group': 'LANDMARK_GROUP', 'entities': [{'geoId': '6266178', 'destinationId': '1769968', 'landmarkCityDestinationId': '1746599', 'type': 'LANDMARK', 'redirectPage': 'DEFAULT_PAGE', 'latitude': -3.99648, 'longitude': -79.20131, 'searchDetail': None, 'caption': 'Loja Cathedral, Loja, Loja Province, Ecuador', 'name': 'Loja Cathedral'}, {'geoId': '553248621532375146', 'destinationId': '10518677', 'landmarkCityDestinationId': '1746599', 'type': 'LANDMARK', 'redirectPage': 'DEFAULT_PAGE', 'latitude': -3.9981, 'longitude': -79.201163, 'searchDetail': None, 'caption': 'Loja Music Museum, Loja, Loja Province, Ecuador', 'name': 'Loja Music Museum'}, {'geoId': '553248621563843915', 'destinationId': '10450174', 'landmarkCityDestinationId': '427461', 'type': 'LANDMARK', 'redirectPage': 'DEFAULT_PAGE', 'latitude': -3.632289, 'longitude': -79.221056, 'searchDetail': None, 'caption': 'Waterfall of Sininkapak, Saraguro, Loja Province, Ecuador', 'name': 'Waterfall of Sininkapak'}, {'geoId': '553248621532375140', 'destinationId': '10518672', 'landmarkCityDestinationId': '1746599', 'type': 'LANDMARK', 'redirectPage': 'DEFAULT_PAGE', 'latitude': -3.9994, 'longitude': -79.203, 'searchDetail': None, 'caption': 'Parque Universitario La Argelia, Loja, Loja Province, Ecuador', 'name': 'Parque Universitario La Argelia'}, {'geoId': '6287406', 'destinationId': '1780809', 'landmarkCityDestinationId': '430835', 'type': 'LANDMARK', 'redirectPage': 'DEFAULT_PAGE', 'latitude': -4.262117, 'longitude': -79.222736, 'searchDetail': None, 'caption': 'Vilcabamba Church, Vilcabamba, Loja Province, Ecuador', 'name': 'Vilcabamba Church'}, {'geoId': '6266170', 'destinationId': '1769967', 'landmarkCityDestinationId': '1746599', 'type': 'LANDMARK', 'redirectPage': 'DEFAULT_PAGE', 'latitude': -3.989522, 'longitude': -79.204251, 'searchDetail': None, 'caption': 'Loja City Gates, Loja, Loja Province, Ecuador', 'name': 'Loja City Gates'}, {'geoId': '553248621563843914', 'destinationId': '10450127', 'landmarkCityDestinationId': '427461', 'type': 'LANDMARK', 'redirectPage': 'DEFAULT_PAGE', 'latitude': -3.62201, 'longitude': -79.239702, 'searchDetail': None, 'caption': 'Saraguro Market, Saraguro, Loja Province, Ecuador', 'name': 'Saraguro Market'}]}, {'group': 'TRANSPORT_GROUP', 'entities': [{'geoId': '6029735', 'destinationId': '1666240', 'landmarkCityDestinationId': None, 'type': 'AIRPORT', 'redirectPage': 'DEFAULT_PAGE', 'latitude': -3.995892, 'longitude': -79.371925, 'searchDetail': None, 'caption': 'Loja, Ecuador (LOH-Camilo Ponce Enriquez)', 'name': 'Loja (LOH-Camilo Ponce Enriquez)'}]}], 'geocodeFallback': False}\n"
     ]
    }
   ],
   "source": [
    "\n",
    "ruta = 'Data/loja.json'\n",
    "obj = json.load(open(ruta))\n",
    "del obj['moresuggestions']\n",
    "del obj['autoSuggestInstance']\n",
    "del obj['trackingID']\n",
    "del obj['misspellingfallback']\n",
    "print(obj)"
   ]
  },
  {
   "cell_type": "code",
   "execution_count": 14,
   "metadata": {},
   "outputs": [],
   "source": [
    "g = Graph()"
   ]
  },
  {
   "cell_type": "code",
   "execution_count": 31,
   "metadata": {},
   "outputs": [
    {
     "name": "stdout",
     "output_type": "stream",
     "text": [
      "['Urdaneta', 'Zapotillo', 'Gualel', 'Vilcabamba', 'Jimbura', 'Lluzhapa', 'Manu']\n"
     ]
    }
   ],
   "source": [
    "# for i in range(len(obj)):\n",
    "#     if obj[\"suggestions\"][\"group\"] == \"TRANSPORT_GROUP\":\n",
    "#         obj.pop(i)\n",
    "#         break\n",
    "#     print(obj[i])\n",
    "#     print(obj[\"term\"])\n",
    "#     break\n",
    "busqueda = obj['term']\n",
    "# Grupo de ciudades\n",
    "cityLat = []\n",
    "cityLon = []\n",
    "cityNames = []\n",
    "cityTypes = []\n",
    "# Grupo de lugares de interés\n",
    "landmarkLat = []\n",
    "landmarkLon = []\n",
    "landmarkNames = []\n",
    "landmarkTypes = []\n",
    "# Grupo de hoteles\n",
    "hotelLat = []\n",
    "hotelLon = []\n",
    "hotelNames = []\n",
    "hotelTypes = []\n",
    "\n",
    "for suggestion in obj['suggestions']:\n",
    "    if suggestion['group'] == 'CITY_GROUP':\n",
    "        for entitie in suggestion['entities']:\n",
    "            cityLat.append(entitie['latitude'])    \n",
    "            cityLon.append(entitie['longitude'])\n",
    "            cityNames.append(entitie['name'])\n",
    "            cityTypes.append(entitie['type'])\n",
    "    if suggestion['group'] == 'LANDMARK_GROUP':\n",
    "        for entitie in suggestion['entities']:\n",
    "            landmarkLat.append(entitie['latitude'])\n",
    "            landmarkLon.append(entitie['longitude'])\n",
    "            landmarkNames.append(entitie['name'])\n",
    "            landmarkTypes.append(entitie['type'])\n",
    "    if suggestion['group'] == 'HOTEL_GROUP':\n",
    "        for entitie in suggestion['entities']:\n",
    "            hotelLat.append(entitie['latitude'])\n",
    "            hotelLon.append(entitie['longitude'])\n",
    "            hotelNames.append(entitie['name'])\n",
    "            hotelTypes.append(entitie['type'])\n",
    "\n",
    "print(cityNames)"
   ]
  },
  {
   "cell_type": "code",
   "execution_count": 17,
   "metadata": {},
   "outputs": [
    {
     "name": "stdout",
     "output_type": "stream",
     "text": [
      "[{'coord': {'lon': -79.1683, 'lat': -3.6394}, 'weather': [{'id': 804, 'main': 'Clouds', 'description': 'overcast clouds', 'icon': '04n'}], 'base': 'stations', 'main': {'temp': 283.13, 'feels_like': 283.13, 'temp_min': 283.13, 'temp_max': 283.13, 'pressure': 1018, 'humidity': 96, 'sea_level': 1018, 'grnd_level': 741}, 'visibility': 10000, 'wind': {'speed': 0.15, 'deg': 76, 'gust': 0.55}, 'clouds': {'all': 93}, 'dt': 1654231922, 'sys': {'country': 'EC', 'sunrise': 1654168632, 'sunset': 1654211549}, 'timezone': -18000, 'id': 3651245, 'name': 'Saraguro', 'cod': 200}, {'coord': {'lon': -80.2571, 'lat': -4.3623}, 'weather': [{'id': 804, 'main': 'Clouds', 'description': 'overcast clouds', 'icon': '04n'}], 'base': 'stations', 'main': {'temp': 293.74, 'feels_like': 293.45, 'temp_min': 293.74, 'temp_max': 293.74, 'pressure': 1015, 'humidity': 61, 'sea_level': 1015, 'grnd_level': 981}, 'visibility': 10000, 'wind': {'speed': 0.96, 'deg': 237, 'gust': 1.31}, 'clouds': {'all': 98}, 'dt': 1654231923, 'sys': {'country': 'PE', 'sunrise': 1654168964, 'sunset': 1654211739}, 'timezone': -18000, 'id': 3695552, 'name': 'Las Lomas', 'cod': 200}, {'coord': {'lon': -79.3731, 'lat': -3.7536}, 'weather': [{'id': 804, 'main': 'Clouds', 'description': 'overcast clouds', 'icon': '04n'}], 'base': 'stations', 'main': {'temp': 282.7, 'feels_like': 282.7, 'temp_min': 282.7, 'temp_max': 282.7, 'pressure': 1018, 'humidity': 94, 'sea_level': 1018, 'grnd_level': 747}, 'visibility': 10000, 'wind': {'speed': 0.96, 'deg': 72, 'gust': 0.99}, 'clouds': {'all': 92}, 'dt': 1654231924, 'sys': {'country': 'EC', 'sunrise': 1654168692, 'sunset': 1654211587}, 'timezone': -18000, 'id': 3651546, 'name': 'San Pedro de la Bendita', 'cod': 200}, {'coord': {'lon': -79.2283, 'lat': -4.2798}, 'weather': [{'id': 804, 'main': 'Clouds', 'description': 'overcast clouds', 'icon': '04n'}], 'base': 'stations', 'main': {'temp': 288.87, 'feels_like': 289.03, 'temp_min': 288.87, 'temp_max': 288.87, 'pressure': 1018, 'humidity': 97, 'sea_level': 1018, 'grnd_level': 835}, 'visibility': 10000, 'wind': {'speed': 0.58, 'deg': 98, 'gust': 0.77}, 'clouds': {'all': 86}, 'dt': 1654231925, 'sys': {'country': 'EC', 'sunrise': 1654168709, 'sunset': 1654211501}, 'timezone': -18000, 'id': 3650199, 'name': 'Vilcabamba', 'cod': 200}, {'coord': {'lon': -79.4439, 'lat': -4.6543}, 'weather': [{'id': 804, 'main': 'Clouds', 'description': 'overcast clouds', 'icon': '04n'}], 'base': 'stations', 'main': {'temp': 281.58, 'feels_like': 281.58, 'temp_min': 281.58, 'temp_max': 281.58, 'pressure': 1019, 'humidity': 96, 'sea_level': 1019, 'grnd_level': 748}, 'visibility': 10000, 'wind': {'speed': 0.72, 'deg': 114, 'gust': 1.1}, 'clouds': {'all': 88}, 'dt': 1654231925, 'sys': {'country': 'PE', 'sunrise': 1654168798, 'sunset': 1654211516}, 'timezone': -18000, 'id': 3699502, 'name': 'Ayabaca', 'cod': 200}, {'coord': {'lon': -79.325, 'lat': -3.4925}, 'weather': [{'id': 804, 'main': 'Clouds', 'description': 'overcast clouds', 'icon': '04n'}], 'base': 'stations', 'main': {'temp': 285.52, 'feels_like': 285.27, 'temp_min': 285.52, 'temp_max': 285.52, 'pressure': 1018, 'humidity': 94, 'sea_level': 1018, 'grnd_level': 779}, 'visibility': 10000, 'wind': {'speed': 0.21, 'deg': 63, 'gust': 0.44}, 'clouds': {'all': 96}, 'dt': 1654231926, 'sys': {'country': 'EC', 'sunrise': 1654168655, 'sunset': 1654211601}, 'timezone': -18000, 'id': 3651245, 'name': 'Saraguro', 'cod': 200}, {'coord': {'lon': -79.4264, 'lat': -3.5292}, 'weather': [{'id': 804, 'main': 'Clouds', 'description': 'overcast clouds', 'icon': '04n'}], 'base': 'stations', 'main': {'temp': 278, 'feels_like': 278, 'temp_min': 278, 'temp_max': 278, 'pressure': 1018, 'humidity': 94, 'sea_level': 1018, 'grnd_level': 685}, 'visibility': 10000, 'wind': {'speed': 0.61, 'deg': 77, 'gust': 0.74}, 'clouds': {'all': 98}, 'dt': 1654231927, 'sys': {'country': 'EC', 'sunrise': 1654168683, 'sunset': 1654211622}, 'timezone': -18000, 'id': 3651245, 'name': 'Saraguro', 'cod': 200}]\n"
     ]
    }
   ],
   "source": [
    "\n",
    "# import urllib library\n",
    "from urllib.request import urlopen\n",
    "\n",
    "#urlBase = f\"https://api.openweathermap.org/data/2.5/weather?lat={lat}&lon={lon}&appid=8ff197fe8c643a9c8c5bc573eef66675\"\n",
    "urls = []\n",
    "responses = []\n",
    "data_json = []\n",
    "for i in range (len(cityLat)):\n",
    "    urls.append(f\"https://api.openweathermap.org/data/2.5/weather?lat={cityLat[i]}&lon={cityLon[i]}&appid=8ff197fe8c643a9c8c5bc573eef66675\")\n",
    "    \n",
    "for url in urls:\n",
    "    responses.append(urlopen(url))\n",
    "for response in responses:\n",
    "    data_json.append(json.loads(response.read()))\n",
    "#response = urlopen(url)\n",
    "# data_json = json.loads(response.read())\n",
    "print(data_json)"
   ]
  },
  {
   "cell_type": "code",
   "execution_count": 18,
   "metadata": {},
   "outputs": [
    {
     "name": "stdout",
     "output_type": "stream",
     "text": [
      "['https://api.openweathermap.org/data/2.5/weather?lat=-3.6394344211967353&lon=-79.16831395316717&appid=8ff197fe8c643a9c8c5bc573eef66675', 'https://api.openweathermap.org/data/2.5/weather?lat=-4.362287242855844&lon=-80.25714249772747&appid=8ff197fe8c643a9c8c5bc573eef66675', 'https://api.openweathermap.org/data/2.5/weather?lat=-3.7536272587413535&lon=-79.37310779298699&appid=8ff197fe8c643a9c8c5bc573eef66675', 'https://api.openweathermap.org/data/2.5/weather?lat=-4.279782518845229&lon=-79.22828827501147&appid=8ff197fe8c643a9c8c5bc573eef66675', 'https://api.openweathermap.org/data/2.5/weather?lat=-4.6543353997929895&lon=-79.4439252024845&appid=8ff197fe8c643a9c8c5bc573eef66675', 'https://api.openweathermap.org/data/2.5/weather?lat=-3.492462417354487&lon=-79.32495698683137&appid=8ff197fe8c643a9c8c5bc573eef66675', 'https://api.openweathermap.org/data/2.5/weather?lat=-3.5291942265345875&lon=-79.42642033242456&appid=8ff197fe8c643a9c8c5bc573eef66675']\n"
     ]
    }
   ],
   "source": [
    "print(urls)"
   ]
  },
  {
   "cell_type": "code",
   "execution_count": 33,
   "metadata": {},
   "outputs": [
    {
     "name": "stdout",
     "output_type": "stream",
     "text": [
      "http://example.org/destination/CITY/Urdaneta\n",
      "http://example.org/destination/CITY/Zapotillo\n",
      "http://example.org/destination/CITY/Gualel\n",
      "http://example.org/destination/CITY/Vilcabamba\n",
      "http://example.org/destination/CITY/Jimbura\n",
      "http://example.org/destination/CITY/Lluzhapa\n",
      "http://example.org/destination/CITY/Manu\n",
      "http://example.org/destination/LANDMARK/LojaCathedral\n",
      "http://example.org/destination/LANDMARK/LojaMusicMuseum\n",
      "http://example.org/destination/LANDMARK/WaterfallofSininkapak\n",
      "http://example.org/destination/LANDMARK/ParqueUniversitarioLaArgelia\n",
      "http://example.org/destination/LANDMARK/VilcabambaChurch\n",
      "http://example.org/destination/LANDMARK/LojaCityGates\n",
      "http://example.org/destination/LANDMARK/SaraguroMarket\n"
     ]
    }
   ],
   "source": [
    "from unicodedata import normalize\n",
    "\n",
    "#A partir del nombre se fijará la URI, por tanto, se necesita formatear el texto para quitar tildes:\n",
    "a,b = 'áéíóúü','aeiouu'\n",
    "trans = str.maketrans(a,b)\n",
    "\n",
    "# Recorrer la data e ir creando los datos:\n",
    "for (cityName,cityType) in zip (cityNames, cityTypes):\n",
    "    datosURI = URIRef(strprefix + cityType.replace(' ', '').translate(trans) + ('/') + cityName.replace(' ', '').translate(trans))\n",
    "    typeDestination = Literal(cityType)\n",
    "    nameDestination = Literal(cityName)\n",
    "    print(datosURI)\n",
    "\n",
    "for (hotelName,hotelType) in zip (hotelNames, hotelTypes):\n",
    "    datosURI = URIRef(strprefix + hotelType.replace(' ', '').translate(trans) + ('/') + hotelName.replace(' ', '').translate(trans))\n",
    "    typeDestination = Literal(hotelType)\n",
    "    nameDestination = Literal(hotelName)\n",
    "    print(datosURI)\n",
    "\n",
    "for (landmarkName,landmarkType) in zip (landmarkNames, landmarkTypes):\n",
    "    datosURI = URIRef(strprefix + landmarkType.replace(' ', '').translate(trans) + ('/') +landmarkName.replace(' ', '').translate(trans))\n",
    "    typeDestination = Literal(landmarkType)\n",
    "    nameDestination = Literal(landmarkName)\n",
    "#for cityName in cityNames:\n",
    " #   datosURI = URIRef(strprefix + cityName.replace(' ', '').translate(trans))\n",
    "  #  nameDestination = Literal(cityName)\n",
    "    # print(round(cityLat[i],4))\n",
    "    # print(data_json[i]['coord']['lat'])\n",
    "    #if(round(cityLat[i],4) == data_json[i]['coord']['lat'] and (round(cityLon[i],4) == data_json[i]['coord']['lon'])):\n",
    "    #    print(cityNames[i])\n",
    "    #    print(data_json[i]['main']['temp'])\n",
    "    #    print(\"...\")\n",
    "    print(datosURI)"
   ]
  },
  {
   "cell_type": "code",
   "execution_count": 158,
   "metadata": {},
   "outputs": [
    {
     "name": "stdout",
     "output_type": "stream",
     "text": [
      "Ayabaca\n"
     ]
    }
   ],
   "source": [
    "print(data_json[4]['name'])"
   ]
  },
  {
   "cell_type": "code",
   "execution_count": 107,
   "metadata": {},
   "outputs": [
    {
     "name": "stdout",
     "output_type": "stream",
     "text": [
      "<class 'dict'>\n"
     ]
    }
   ],
   "source": [
    "\n"
   ]
  }
 ],
 "metadata": {
  "interpreter": {
   "hash": "34abf383d74fb4a0aef96529b01619ebbdc393921705edd13d4d481583cfdfc2"
  },
  "kernelspec": {
   "display_name": "Python 3.8.5 64-bit",
   "language": "python",
   "name": "python3"
  },
  "language_info": {
   "codemirror_mode": {
    "name": "ipython",
    "version": 3
   },
   "file_extension": ".py",
   "mimetype": "text/x-python",
   "name": "python",
   "nbconvert_exporter": "python",
   "pygments_lexer": "ipython3",
   "version": "3.8.5"
  },
  "orig_nbformat": 4
 },
 "nbformat": 4,
 "nbformat_minor": 2
}
