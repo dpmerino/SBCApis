{
 "cells": [
  {
   "cell_type": "code",
   "execution_count": 1,
   "metadata": {},
   "outputs": [],
   "source": [
    "from rdflib import Graph\n",
    "from rdflib import URIRef, BNode, Literal, RDF, RDFS\n",
    "import json\n",
    "import re"
   ]
  },
  {
   "cell_type": "code",
   "execution_count": 2,
   "metadata": {},
   "outputs": [],
   "source": [
    "from rdflib import Namespace\n",
    "# prefix for my data\n",
    "strprefix = \"http://example.org/destination/\"\n",
    "data = Namespace(strprefix) \n",
    "schema = Namespace('https://schema.org/')\n",
    "weat = Namespace('https://bimerr.iot.linkeddata.es/def/weather/')"
   ]
  },
  {
   "cell_type": "code",
   "execution_count": 3,
   "metadata": {},
   "outputs": [
    {
     "name": "stdout",
     "output_type": "stream",
     "text": [
      "{'term': 'loja,ecuador', 'suggestions': [{'group': 'CITY_GROUP', 'entities': [{'geoId': '739209075957641216', 'destinationId': '739209075957641216', 'landmarkCityDestinationId': None, 'type': 'CITY', 'redirectPage': 'DEFAULT_PAGE', 'latitude': -3.6394344211967353, 'longitude': -79.16831395316717, 'searchDetail': None, 'caption': 'Urdaneta, Loja Province, Ecuador', 'name': 'Urdaneta'}, {'geoId': '553248635973463947', 'destinationId': '11403341', 'landmarkCityDestinationId': None, 'type': 'CITY', 'redirectPage': 'DEFAULT_PAGE', 'latitude': -4.362287242855844, 'longitude': -80.25714249772747, 'searchDetail': None, 'caption': 'Zapotillo, Zapotillo, Loja Province, Ecuador', 'name': 'Zapotillo'}, {'geoId': '739208770310778880', 'destinationId': '739208770310778880', 'landmarkCityDestinationId': None, 'type': 'CITY', 'redirectPage': 'DEFAULT_PAGE', 'latitude': -3.7536272587413535, 'longitude': -79.37310779298699, 'searchDetail': None, 'caption': 'Gualel, Loja Province, Ecuador', 'name': 'Gualel'}, {'geoId': '6141628', 'destinationId': '430835', 'landmarkCityDestinationId': None, 'type': 'CITY', 'redirectPage': 'DEFAULT_PAGE', 'latitude': -4.279782518845229, 'longitude': -79.22828827501147, 'searchDetail': None, 'caption': 'Vilcabamba, Loja Province, Ecuador', 'name': 'Vilcabamba'}, {'geoId': '553248635973466085', 'destinationId': '11399014', 'landmarkCityDestinationId': None, 'type': 'CITY', 'redirectPage': 'DEFAULT_PAGE', 'latitude': -4.6543353997929895, 'longitude': -79.4439252024845, 'searchDetail': None, 'caption': 'Jimbura, Loja Province, Ecuador', 'name': 'Jimbura'}, {'geoId': '739209559055679488', 'destinationId': '739209559055679488', 'landmarkCityDestinationId': None, 'type': 'CITY', 'redirectPage': 'DEFAULT_PAGE', 'latitude': -3.492462417354487, 'longitude': -79.32495698683137, 'searchDetail': None, 'caption': 'Lluzhapa, Loja Province, Ecuador', 'name': 'Lluzhapa'}, {'geoId': '739208910594658304', 'destinationId': '739208910594658304', 'landmarkCityDestinationId': None, 'type': 'CITY', 'redirectPage': 'DEFAULT_PAGE', 'latitude': -3.5291942265345875, 'longitude': -79.42642033242456, 'searchDetail': None, 'caption': 'Manu, Loja Province, Ecuador', 'name': 'Manu'}]}, {'group': 'HOTEL_GROUP', 'entities': []}, {'group': 'LANDMARK_GROUP', 'entities': [{'geoId': '6266178', 'destinationId': '1769968', 'landmarkCityDestinationId': '1746599', 'type': 'LANDMARK', 'redirectPage': 'DEFAULT_PAGE', 'latitude': -3.99648, 'longitude': -79.20131, 'searchDetail': None, 'caption': 'Loja Cathedral, Loja, Loja Province, Ecuador', 'name': 'Loja Cathedral'}, {'geoId': '553248621532375146', 'destinationId': '10518677', 'landmarkCityDestinationId': '1746599', 'type': 'LANDMARK', 'redirectPage': 'DEFAULT_PAGE', 'latitude': -3.9981, 'longitude': -79.201163, 'searchDetail': None, 'caption': 'Loja Music Museum, Loja, Loja Province, Ecuador', 'name': 'Loja Music Museum'}, {'geoId': '553248621563843915', 'destinationId': '10450174', 'landmarkCityDestinationId': '427461', 'type': 'LANDMARK', 'redirectPage': 'DEFAULT_PAGE', 'latitude': -3.632289, 'longitude': -79.221056, 'searchDetail': None, 'caption': 'Waterfall of Sininkapak, Saraguro, Loja Province, Ecuador', 'name': 'Waterfall of Sininkapak'}, {'geoId': '553248621532375140', 'destinationId': '10518672', 'landmarkCityDestinationId': '1746599', 'type': 'LANDMARK', 'redirectPage': 'DEFAULT_PAGE', 'latitude': -3.9994, 'longitude': -79.203, 'searchDetail': None, 'caption': 'Parque Universitario La Argelia, Loja, Loja Province, Ecuador', 'name': 'Parque Universitario La Argelia'}, {'geoId': '6287406', 'destinationId': '1780809', 'landmarkCityDestinationId': '430835', 'type': 'LANDMARK', 'redirectPage': 'DEFAULT_PAGE', 'latitude': -4.262117, 'longitude': -79.222736, 'searchDetail': None, 'caption': 'Vilcabamba Church, Vilcabamba, Loja Province, Ecuador', 'name': 'Vilcabamba Church'}, {'geoId': '6266170', 'destinationId': '1769967', 'landmarkCityDestinationId': '1746599', 'type': 'LANDMARK', 'redirectPage': 'DEFAULT_PAGE', 'latitude': -3.989522, 'longitude': -79.204251, 'searchDetail': None, 'caption': 'Loja City Gates, Loja, Loja Province, Ecuador', 'name': 'Loja City Gates'}, {'geoId': '553248621563843914', 'destinationId': '10450127', 'landmarkCityDestinationId': '427461', 'type': 'LANDMARK', 'redirectPage': 'DEFAULT_PAGE', 'latitude': -3.62201, 'longitude': -79.239702, 'searchDetail': None, 'caption': 'Saraguro Market, Saraguro, Loja Province, Ecuador', 'name': 'Saraguro Market'}]}, {'group': 'TRANSPORT_GROUP', 'entities': [{'geoId': '6029735', 'destinationId': '1666240', 'landmarkCityDestinationId': None, 'type': 'AIRPORT', 'redirectPage': 'DEFAULT_PAGE', 'latitude': -3.995892, 'longitude': -79.371925, 'searchDetail': None, 'caption': 'Loja, Ecuador (LOH-Camilo Ponce Enriquez)', 'name': 'Loja (LOH-Camilo Ponce Enriquez)'}]}], 'geocodeFallback': False}\n"
     ]
    }
   ],
   "source": [
    "\n",
    "ruta = 'Data/loja.json'\n",
    "obj = json.load(open(ruta))\n",
    "del obj['moresuggestions']\n",
    "del obj['autoSuggestInstance']\n",
    "del obj['trackingID']\n",
    "del obj['misspellingfallback']\n",
    "print(obj)"
   ]
  },
  {
   "cell_type": "code",
   "execution_count": 4,
   "metadata": {},
   "outputs": [],
   "source": [
    "g = Graph()"
   ]
  },
  {
   "cell_type": "code",
   "execution_count": 12,
   "metadata": {},
   "outputs": [
    {
     "name": "stdout",
     "output_type": "stream",
     "text": [
      "[' Ecuador', ' Ecuador', ' Ecuador', ' Ecuador', ' Ecuador', ' Ecuador', ' Ecuador']\n"
     ]
    }
   ],
   "source": [
    "busqueda = obj['term']\n",
    "# Grupo de ciudades\n",
    "cityLats = []\n",
    "cityLons = []\n",
    "cityNames = []\n",
    "cityTypes = []\n",
    "cityStates = []\n",
    "cityCountries = []\n",
    "# Grupo de lugares de interés\n",
    "landmarkLats = []\n",
    "landmarkLons = []\n",
    "landmarkNames = []\n",
    "landmarkTypes = []\n",
    "landmarkCity = []\n",
    "landmarkStates = []\n",
    "landmarkCountry = []\n",
    "# Grupo de hoteles\n",
    "hotelLats = []\n",
    "hotelLons = []\n",
    "hotelNames = []\n",
    "hotelTypes = []\n",
    "hotelCity = []\n",
    "hotelStates = []\n",
    "hotelCountry = []\n",
    "\n",
    "for suggestion in obj['suggestions']:\n",
    "    if suggestion['group'] == 'CITY_GROUP':\n",
    "        for entitie in suggestion['entities']:\n",
    "            cityLats.append(entitie['latitude'])    \n",
    "            cityLons.append(entitie['longitude'])\n",
    "            cityNames.append(entitie['name'])\n",
    "            cityTypes.append(entitie['type'])\n",
    "            location = re.split(',|,|,|,|,',entitie['caption'])\n",
    "            cityStates.append(location[-2])\n",
    "            cityCountries.append(location[-1])\n",
    "    if suggestion['group'] == 'LANDMARK_GROUP':\n",
    "        for entitie in suggestion['entities']:\n",
    "            landmarkLats.append(entitie['latitude'])\n",
    "            landmarkLons.append(entitie['longitude'])\n",
    "            landmarkNames.append(entitie['name'])\n",
    "            landmarkTypes.append(entitie['type'])\n",
    "            location = re.split(',|,|,|,|,',entitie['caption'])\n",
    "            landmarkCity.append(location[-3])\n",
    "            landmarkStates.append(location[-2])\n",
    "            landmarkCountry.append(location[-1])\n",
    "    if suggestion['group'] == 'HOTEL_GROUP':\n",
    "        for entitie in suggestion['entities']:\n",
    "            hotelLats.append(entitie['latitude'])\n",
    "            hotelLons.append(entitie['longitude'])\n",
    "            hotelNames.append(entitie['name'])\n",
    "            hotelTypes.append(entitie['type'])\n",
    "            location = re.split(',|,|,|,|,',entitie['caption'])\n",
    "            hotelCity.append(location[-3])\n",
    "            hotelStates.append(location[-2])\n",
    "            hotelCountry.append(location[-1])\n",
    "\n",
    "print(landmarkCountry)"
   ]
  },
  {
   "cell_type": "code",
   "execution_count": 14,
   "metadata": {},
   "outputs": [
    {
     "name": "stdout",
     "output_type": "stream",
     "text": [
      "Ciudades\n",
      "[{'coord': {'lon': -79.1683, 'lat': -3.6394}, 'weather': [{'id': 500, 'main': 'Rain', 'description': 'light rain', 'icon': '10n'}], 'base': 'stations', 'main': {'temp': 283.11, 'feels_like': 283.11, 'temp_min': 283.11, 'temp_max': 283.11, 'pressure': 1018, 'humidity': 94, 'sea_level': 1018, 'grnd_level': 740}, 'visibility': 10000, 'wind': {'speed': 1.18, 'deg': 76, 'gust': 1.67}, 'rain': {'1h': 0.34}, 'clouds': {'all': 100}, 'dt': 1654309609, 'sys': {'country': 'EC', 'sunrise': 1654255044, 'sunset': 1654297957}, 'timezone': -18000, 'id': 3651245, 'name': 'Saraguro', 'cod': 200}, {'coord': {'lon': -80.2571, 'lat': -4.3623}, 'weather': [{'id': 804, 'main': 'Clouds', 'description': 'overcast clouds', 'icon': '04n'}], 'base': 'stations', 'main': {'temp': 295.45, 'feels_like': 295.35, 'temp_min': 295.45, 'temp_max': 295.45, 'pressure': 1013, 'humidity': 62, 'sea_level': 1013, 'grnd_level': 979}, 'visibility': 10000, 'wind': {'speed': 3.01, 'deg': 203, 'gust': 5.62}, 'clouds': {'all': 100}, 'dt': 1654309609, 'sys': {'country': 'PE', 'sunrise': 1654255376, 'sunset': 1654298147}, 'timezone': -18000, 'id': 3695552, 'name': 'Las Lomas', 'cod': 200}, {'coord': {'lon': -79.3731, 'lat': -3.7536}, 'weather': [{'id': 500, 'main': 'Rain', 'description': 'light rain', 'icon': '10n'}], 'base': 'stations', 'main': {'temp': 282.93, 'feels_like': 282.29, 'temp_min': 282.93, 'temp_max': 282.93, 'pressure': 1017, 'humidity': 93, 'sea_level': 1017, 'grnd_level': 747}, 'visibility': 10000, 'wind': {'speed': 1.76, 'deg': 83, 'gust': 1.67}, 'rain': {'1h': 0.19}, 'clouds': {'all': 100}, 'dt': 1654309617, 'sys': {'country': 'EC', 'sunrise': 1654255104, 'sunset': 1654297995}, 'timezone': -18000, 'id': 3651546, 'name': 'San Pedro de la Bendita', 'cod': 200}, {'coord': {'lon': -79.2283, 'lat': -4.2798}, 'weather': [{'id': 500, 'main': 'Rain', 'description': 'light rain', 'icon': '10n'}], 'base': 'stations', 'main': {'temp': 288.53, 'feels_like': 288.63, 'temp_min': 288.53, 'temp_max': 288.53, 'pressure': 1018, 'humidity': 96, 'sea_level': 1018, 'grnd_level': 834}, 'visibility': 10000, 'wind': {'speed': 1.64, 'deg': 115, 'gust': 1.57}, 'rain': {'1h': 0.15}, 'clouds': {'all': 100}, 'dt': 1654309611, 'sys': {'country': 'EC', 'sunrise': 1654255121, 'sunset': 1654297908}, 'timezone': -18000, 'id': 3650199, 'name': 'Vilcabamba', 'cod': 200}, {'coord': {'lon': -79.4439, 'lat': -4.6543}, 'weather': [{'id': 804, 'main': 'Clouds', 'description': 'overcast clouds', 'icon': '04n'}], 'base': 'stations', 'main': {'temp': 282.6, 'feels_like': 282.6, 'temp_min': 282.6, 'temp_max': 282.6, 'pressure': 1018, 'humidity': 96, 'sea_level': 1018, 'grnd_level': 748}, 'visibility': 10000, 'wind': {'speed': 1.08, 'deg': 105, 'gust': 1.76}, 'clouds': {'all': 100}, 'dt': 1654309619, 'sys': {'country': 'PE', 'sunrise': 1654255210, 'sunset': 1654297922}, 'timezone': -18000, 'id': 3699502, 'name': 'Ayabaca', 'cod': 200}, {'coord': {'lon': -79.325, 'lat': -3.4925}, 'weather': [{'id': 500, 'main': 'Rain', 'description': 'light rain', 'icon': '10n'}], 'base': 'stations', 'main': {'temp': 286.65, 'feels_like': 286.38, 'temp_min': 286.65, 'temp_max': 286.65, 'pressure': 1017, 'humidity': 89, 'sea_level': 1017, 'grnd_level': 779}, 'visibility': 10000, 'wind': {'speed': 1.73, 'deg': 99, 'gust': 1.99}, 'rain': {'1h': 0.34}, 'clouds': {'all': 100}, 'dt': 1654309619, 'sys': {'country': 'EC', 'sunrise': 1654255067, 'sunset': 1654298009}, 'timezone': -18000, 'id': 3651245, 'name': 'Saraguro', 'cod': 200}, {'coord': {'lon': -79.4264, 'lat': -3.5292}, 'weather': [{'id': 500, 'main': 'Rain', 'description': 'light rain', 'icon': '10n'}], 'base': 'stations', 'main': {'temp': 279.19, 'feels_like': 277.88, 'temp_min': 279.19, 'temp_max': 279.19, 'pressure': 1017, 'humidity': 91, 'sea_level': 1017, 'grnd_level': 685}, 'visibility': 10000, 'wind': {'speed': 1.85, 'deg': 91, 'gust': 2.01}, 'rain': {'1h': 0.29}, 'clouds': {'all': 100}, 'dt': 1654309620, 'sys': {'country': 'EC', 'sunrise': 1654255095, 'sunset': 1654298030}, 'timezone': -18000, 'id': 3651245, 'name': 'Saraguro', 'cod': 200}]\n",
      "Lugares\n",
      "[{'coord': {'lon': -79.2013, 'lat': -3.9965}, 'weather': [{'id': 500, 'main': 'Rain', 'description': 'light rain', 'icon': '10n'}], 'base': 'stations', 'main': {'temp': 285.77, 'feels_like': 285.62, 'temp_min': 285.77, 'temp_max': 285.77, 'pressure': 1017, 'humidity': 97, 'sea_level': 1017, 'grnd_level': 797}, 'visibility': 10000, 'wind': {'speed': 1.27, 'deg': 84, 'gust': 1.29}, 'rain': {'1h': 0.33}, 'clouds': {'all': 100}, 'dt': 1654309621, 'sys': {'country': 'EC', 'sunrise': 1654255087, 'sunset': 1654297929}, 'timezone': -18000, 'id': 3654667, 'name': 'Loja', 'cod': 200}, {'coord': {'lon': -79.2013, 'lat': -3.9965}, 'weather': [{'id': 500, 'main': 'Rain', 'description': 'light rain', 'icon': '10n'}], 'base': 'stations', 'main': {'temp': 285.77, 'feels_like': 285.62, 'temp_min': 285.77, 'temp_max': 285.77, 'pressure': 1017, 'humidity': 97, 'sea_level': 1017, 'grnd_level': 797}, 'visibility': 10000, 'wind': {'speed': 1.27, 'deg': 84, 'gust': 1.29}, 'rain': {'1h': 0.33}, 'clouds': {'all': 100}, 'dt': 1654309621, 'sys': {'country': 'EC', 'sunrise': 1654255087, 'sunset': 1654297929}, 'timezone': -18000, 'id': 3654667, 'name': 'Loja', 'cod': 200}, {'coord': {'lon': -79.2211, 'lat': -3.6323}, 'weather': [{'id': 500, 'main': 'Rain', 'description': 'light rain', 'icon': '10n'}], 'base': 'stations', 'main': {'temp': 284.56, 'feels_like': 284.18, 'temp_min': 284.56, 'temp_max': 284.56, 'pressure': 1018, 'humidity': 93, 'sea_level': 1018, 'grnd_level': 756}, 'visibility': 10000, 'wind': {'speed': 1.51, 'deg': 85, 'gust': 1.77}, 'rain': {'1h': 0.3}, 'clouds': {'all': 100}, 'dt': 1654309622, 'sys': {'country': 'EC', 'sunrise': 1654255056, 'sunset': 1654297970}, 'timezone': -18000, 'id': 3651245, 'name': 'Saraguro', 'cod': 200}, {'coord': {'lon': -79.2013, 'lat': -3.9965}, 'weather': [{'id': 500, 'main': 'Rain', 'description': 'light rain', 'icon': '10n'}], 'base': 'stations', 'main': {'temp': 285.77, 'feels_like': 285.62, 'temp_min': 285.77, 'temp_max': 285.77, 'pressure': 1017, 'humidity': 97, 'sea_level': 1017, 'grnd_level': 797}, 'visibility': 10000, 'wind': {'speed': 1.27, 'deg': 84, 'gust': 1.29}, 'rain': {'1h': 0.33}, 'clouds': {'all': 100}, 'dt': 1654309621, 'sys': {'country': 'EC', 'sunrise': 1654255087, 'sunset': 1654297929}, 'timezone': -18000, 'id': 3654667, 'name': 'Loja', 'cod': 200}, {'coord': {'lon': -79.2227, 'lat': -4.2621}, 'weather': [{'id': 500, 'main': 'Rain', 'description': 'light rain', 'icon': '10n'}], 'base': 'stations', 'main': {'temp': 289.53, 'feels_like': 289.73, 'temp_min': 289.53, 'temp_max': 289.53, 'pressure': 1018, 'humidity': 96, 'sea_level': 1018, 'grnd_level': 850}, 'visibility': 10000, 'wind': {'speed': 1.65, 'deg': 114, 'gust': 1.56}, 'rain': {'1h': 0.17}, 'clouds': {'all': 100}, 'dt': 1654309624, 'sys': {'country': 'EC', 'sunrise': 1654255118, 'sunset': 1654297908}, 'timezone': -18000, 'id': 3650199, 'name': 'Vilcabamba', 'cod': 200}, {'coord': {'lon': -79.2043, 'lat': -3.9895}, 'weather': [{'id': 500, 'main': 'Rain', 'description': 'light rain', 'icon': '10n'}], 'base': 'stations', 'main': {'temp': 285.84, 'feels_like': 285.7, 'temp_min': 285.84, 'temp_max': 285.84, 'pressure': 1017, 'humidity': 97, 'sea_level': 1017, 'grnd_level': 798}, 'visibility': 10000, 'wind': {'speed': 1.29, 'deg': 83, 'gust': 1.31}, 'rain': {'1h': 0.32}, 'clouds': {'all': 100}, 'dt': 1654309625, 'sys': {'country': 'EC', 'sunrise': 1654255087, 'sunset': 1654297931}, 'timezone': -18000, 'id': 3654667, 'name': 'Loja', 'cod': 200}, {'coord': {'lon': -79.2397, 'lat': -3.622}, 'weather': [{'id': 500, 'main': 'Rain', 'description': 'light rain', 'icon': '10n'}], 'base': 'stations', 'main': {'temp': 285.04, 'feels_like': 284.69, 'temp_min': 285.04, 'temp_max': 285.04, 'pressure': 1018, 'humidity': 92, 'sea_level': 1018, 'grnd_level': 760}, 'visibility': 10000, 'wind': {'speed': 1.63, 'deg': 88, 'gust': 1.81}, 'rain': {'1h': 0.29}, 'clouds': {'all': 100}, 'dt': 1654309626, 'sys': {'country': 'EC', 'sunrise': 1654255059, 'sunset': 1654297976}, 'timezone': -18000, 'id': 3651245, 'name': 'Saraguro', 'cod': 200}]\n",
      "Hoteles\n",
      "[]\n"
     ]
    }
   ],
   "source": [
    "# import urllib library\n",
    "from urllib.request import urlopen\n",
    "\n",
    "#urlBase = f\"https://api.openweathermap.org/data/2.5/weather?lat={lat}&lon={lon}&appid=8ff197fe8c643a9c8c5bc573eef66675\"\n",
    "urlsCity = []\n",
    "urlsLandmark = []\n",
    "urlsHotel = []\n",
    "\n",
    "responsesCity = []\n",
    "responsesLandmark = []\n",
    "responsesHotel = []\n",
    "\n",
    "cityJson = []\n",
    "landmarkJson = []\n",
    "hotelJson = []\n",
    "for i in range (len(cityLats)):\n",
    "    urlsCity.append(f\"https://api.openweathermap.org/data/2.5/weather?lat={cityLats[i]}&lon={cityLons[i]}&appid=8ff197fe8c643a9c8c5bc573eef66675\")    \n",
    "for url in urlsCity:\n",
    "    responsesCity.append(urlopen(url))\n",
    "for response in responsesCity:\n",
    "    cityJson.append(json.loads(response.read()))\n",
    "\n",
    "for i in range(len(landmarkLats)):\n",
    "    urlsLandmark.append(f\"https://api.openweathermap.org/data/2.5/weather?lat={landmarkLats[i]}&lon={landmarkLons[i]}&appid=8ff197fe8c643a9c8c5bc573eef66675\")    \n",
    "for url in urlsLandmark:\n",
    "    responsesLandmark.append(urlopen(url))\n",
    "for response in responsesLandmark:\n",
    "    landmarkJson.append(json.loads(response.read()))\n",
    "\n",
    "for i in range(len(hotelLats)):\n",
    "    urlsHotel.append(f\"https://api.openweathermap.org/data/2.5/weather?lat={hotelLats[i]}&lon={hotelLons[i]}&appid=8ff197fe8c643a9c8c5bc573eef66675\")    \n",
    "for url in urlsHotel:\n",
    "    responsesHotel.append(urlopen(url))\n",
    "for response in responsesHotel:\n",
    "    hotelJson.append(json.loads(response.read()))\n",
    "#response = urlopen(url)\n",
    "# cityJson = json.loads(response.read())\n",
    "print(\"Ciudades\")\n",
    "print(cityJson)\n",
    "print(\"Lugares\")\n",
    "print(landmarkJson)\n",
    "print(\"Hoteles\")\n",
    "print(hotelJson)"
   ]
  },
  {
   "cell_type": "code",
   "execution_count": 60,
   "metadata": {},
   "outputs": [
    {
     "name": "stdout",
     "output_type": "stream",
     "text": [
      "http://example.org/destination/CITY/Urdaneta\n",
      "http://example.org/destination/CITY/Zapotillo\n",
      "http://example.org/destination/CITY/Gualel\n",
      "http://example.org/destination/CITY/Vilcabamba\n",
      "http://example.org/destination/CITY/Jimbura\n",
      "http://example.org/destination/CITY/Lluzhapa\n",
      "http://example.org/destination/CITY/Manu\n",
      "http://example.org/destination/LANDMARK/LojaCathedral\n",
      "http://example.org/destination/LANDMARK/LojaMusicMuseum\n",
      "http://example.org/destination/LANDMARK/WaterfallofSininkapak\n",
      "http://example.org/destination/LANDMARK/ParqueUniversitarioLaArgelia\n",
      "http://example.org/destination/LANDMARK/VilcabambaChurch\n",
      "http://example.org/destination/LANDMARK/LojaCityGates\n",
      "http://example.org/destination/LANDMARK/SaraguroMarket\n"
     ]
    }
   ],
   "source": [
    "from unicodedata import normalize\n",
    "\n",
    "#A partir del nombre se fijará la URI, por tanto, se necesita formatear el texto para quitar tildes:\n",
    "a,b = 'áéíóúü','aeiouu'\n",
    "trans = str.maketrans(a,b)\n",
    "\n",
    "# Recorrer la data e ir creando los datos:\n",
    "for (cityName,cityType, cityLat, cityLon) in zip (cityNames, cityTypes, cityLats, cityLons):\n",
    "    datosURI = URIRef(strprefix + cityType.replace(' ', '').translate(trans) + ('/') + cityName.replace(' ', '').translate(trans))\n",
    "    typeDestination = Literal(cityType)\n",
    "    nameDestination = Literal(cityName)\n",
    "    cityLatitude = Literal(cityLat)\n",
    "    cityLongitude = Literal(cityLon)\n",
    "\n",
    "\n",
    "    g.add((datosURI, RDF.type, schema.TouristDestination))\n",
    "    g.add((datosURI, schema.name, nameDestination))\n",
    "    g.add((datosURI, schema.latitude, cityLatitude)) #Las propiedades tambien requiren URI?\n",
    "    g.add((datosURI, schema.longitude, cityLongitude))#Las propiedades tambien requiren URI?\n",
    "\n",
    "    print(datosURI)\n",
    "\n",
    "for (hotelName,hotelType) in zip (hotelNames, hotelTypes):\n",
    "    datosURI = URIRef(strprefix + hotelType.replace(' ', '').translate(trans) + ('/') + hotelName.replace(' ', '').translate(trans))\n",
    "    typeDestination = Literal(hotelType)\n",
    "    nameDestination = Literal(hotelName)\n",
    "    print(datosURI)\n",
    "\n",
    "for (landmarkName,landmarkType) in zip (landmarkNames, landmarkTypes):\n",
    "    datosURI = URIRef(strprefix + landmarkType.replace(' ', '').translate(trans) + ('/') +landmarkName.replace(' ', '').translate(trans))\n",
    "    typeDestination = Literal(landmarkType)\n",
    "    nameDestination = Literal(landmarkName)\n",
    "#for cityName in cityNames:\n",
    " #   datosURI = URIRef(strprefix + cityName.replace(' ', '').translate(trans))\n",
    "  #  nameDestination = Literal(cityName)\n",
    "    # print(round(cityLat[i],4))\n",
    "    # print(data_json[i]['coord']['lat'])\n",
    "    #if(round(cityLat[i],4) == data_json[i]['coord']['lat'] and (round(cityLon[i],4) == data_json[i]['coord']['lon'])):\n",
    "    #    print(cityNames[i])\n",
    "    #    print(data_json[i]['main']['temp'])\n",
    "    #    print(\"...\")\n",
    "    print(datosURI)"
   ]
  },
  {
   "cell_type": "code",
   "execution_count": 61,
   "metadata": {},
   "outputs": [
    {
     "data": {
      "text/plain": [
       "<Graph identifier=N1fcf8c13f16e4d199c0e7c0f07feea61 (<class 'rdflib.graph.Graph'>)>"
      ]
     },
     "execution_count": 61,
     "metadata": {},
     "output_type": "execute_result"
    }
   ],
   "source": [
    "g.serialize(destination=\"datosRDF.ttl\")"
   ]
  },
  {
   "cell_type": "code",
   "execution_count": 107,
   "metadata": {},
   "outputs": [
    {
     "name": "stdout",
     "output_type": "stream",
     "text": [
      "<class 'dict'>\n"
     ]
    }
   ],
   "source": [
    "\n"
   ]
  }
 ],
 "metadata": {
  "interpreter": {
   "hash": "aee8b7b246df8f9039afb4144a1f6fd8d2ca17a180786b69acc140d282b71a49"
  },
  "kernelspec": {
   "display_name": "Python 3.9.8 64-bit",
   "language": "python",
   "name": "python3"
  },
  "language_info": {
   "codemirror_mode": {
    "name": "ipython",
    "version": 3
   },
   "file_extension": ".py",
   "mimetype": "text/x-python",
   "name": "python",
   "nbconvert_exporter": "python",
   "pygments_lexer": "ipython3",
   "version": "3.9.8"
  },
  "orig_nbformat": 4
 },
 "nbformat": 4,
 "nbformat_minor": 2
}
